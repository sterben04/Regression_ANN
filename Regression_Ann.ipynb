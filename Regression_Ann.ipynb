{
  "nbformat": 4,
  "nbformat_minor": 0,
  "metadata": {
    "kernelspec": {
      "display_name": "Python 3",
      "language": "python",
      "name": "python3"
    },
    "language_info": {
      "codemirror_mode": {
        "name": "ipython",
        "version": 3
      },
      "file_extension": ".py",
      "mimetype": "text/x-python",
      "name": "python",
      "nbconvert_exporter": "python",
      "pygments_lexer": "ipython3",
      "version": "3.7.3"
    },
    "colab": {
      "name": "Regression_Ann.ipynb",
      "provenance": []
    }
  },
  "cells": [
    {
      "cell_type": "code",
      "metadata": {
        "id": "Cr-Ll3CUQZzV"
      },
      "source": [
        "import pandas as pd\n",
        "import numpy as np"
      ],
      "execution_count": 57,
      "outputs": []
    },
    {
      "cell_type": "code",
      "metadata": {
        "colab": {
          "base_uri": "https://localhost:8080/"
        },
        "id": "LGEYaP7rQ4mS",
        "outputId": "37e1faa8-fe7c-4b7a-ff0b-ba7e883f385a"
      },
      "source": [
        "!pip install -U keras-tuner\n",
        "\n"
      ],
      "execution_count": 58,
      "outputs": [
        {
          "output_type": "stream",
          "text": [
            "Requirement already up-to-date: keras-tuner in /usr/local/lib/python3.6/dist-packages (1.0.2)\n",
            "Requirement already satisfied, skipping upgrade: requests in /usr/local/lib/python3.6/dist-packages (from keras-tuner) (2.23.0)\n",
            "Requirement already satisfied, skipping upgrade: scikit-learn in /usr/local/lib/python3.6/dist-packages (from keras-tuner) (0.22.2.post1)\n",
            "Requirement already satisfied, skipping upgrade: tqdm in /usr/local/lib/python3.6/dist-packages (from keras-tuner) (4.41.1)\n",
            "Requirement already satisfied, skipping upgrade: future in /usr/local/lib/python3.6/dist-packages (from keras-tuner) (0.16.0)\n",
            "Requirement already satisfied, skipping upgrade: terminaltables in /usr/local/lib/python3.6/dist-packages (from keras-tuner) (3.1.0)\n",
            "Requirement already satisfied, skipping upgrade: scipy in /usr/local/lib/python3.6/dist-packages (from keras-tuner) (1.4.1)\n",
            "Requirement already satisfied, skipping upgrade: packaging in /usr/local/lib/python3.6/dist-packages (from keras-tuner) (20.4)\n",
            "Requirement already satisfied, skipping upgrade: tabulate in /usr/local/lib/python3.6/dist-packages (from keras-tuner) (0.8.7)\n",
            "Requirement already satisfied, skipping upgrade: numpy in /usr/local/lib/python3.6/dist-packages (from keras-tuner) (1.18.5)\n",
            "Requirement already satisfied, skipping upgrade: colorama in /usr/local/lib/python3.6/dist-packages (from keras-tuner) (0.4.4)\n",
            "Requirement already satisfied, skipping upgrade: certifi>=2017.4.17 in /usr/local/lib/python3.6/dist-packages (from requests->keras-tuner) (2020.11.8)\n",
            "Requirement already satisfied, skipping upgrade: idna<3,>=2.5 in /usr/local/lib/python3.6/dist-packages (from requests->keras-tuner) (2.10)\n",
            "Requirement already satisfied, skipping upgrade: urllib3!=1.25.0,!=1.25.1,<1.26,>=1.21.1 in /usr/local/lib/python3.6/dist-packages (from requests->keras-tuner) (1.24.3)\n",
            "Requirement already satisfied, skipping upgrade: chardet<4,>=3.0.2 in /usr/local/lib/python3.6/dist-packages (from requests->keras-tuner) (3.0.4)\n",
            "Requirement already satisfied, skipping upgrade: joblib>=0.11 in /usr/local/lib/python3.6/dist-packages (from scikit-learn->keras-tuner) (0.17.0)\n",
            "Requirement already satisfied, skipping upgrade: pyparsing>=2.0.2 in /usr/local/lib/python3.6/dist-packages (from packaging->keras-tuner) (2.4.7)\n",
            "Requirement already satisfied, skipping upgrade: six in /usr/local/lib/python3.6/dist-packages (from packaging->keras-tuner) (1.15.0)\n"
          ],
          "name": "stdout"
        }
      ]
    },
    {
      "cell_type": "code",
      "metadata": {
        "colab": {
          "base_uri": "https://localhost:8080/",
          "height": 224
        },
        "id": "K0_AwmKyQZzV",
        "outputId": "2c3dc9a4-d00d-4f90-de56-faf76afa70dc"
      },
      "source": [
        "data = pd.read_csv('housing.csv')\n",
        "data.head()"
      ],
      "execution_count": 59,
      "outputs": [
        {
          "output_type": "execute_result",
          "data": {
            "text/html": [
              "<div>\n",
              "<style scoped>\n",
              "    .dataframe tbody tr th:only-of-type {\n",
              "        vertical-align: middle;\n",
              "    }\n",
              "\n",
              "    .dataframe tbody tr th {\n",
              "        vertical-align: top;\n",
              "    }\n",
              "\n",
              "    .dataframe thead th {\n",
              "        text-align: right;\n",
              "    }\n",
              "</style>\n",
              "<table border=\"1\" class=\"dataframe\">\n",
              "  <thead>\n",
              "    <tr style=\"text-align: right;\">\n",
              "      <th></th>\n",
              "      <th>longitude</th>\n",
              "      <th>latitude</th>\n",
              "      <th>housing_median_age</th>\n",
              "      <th>total_rooms</th>\n",
              "      <th>total_bedrooms</th>\n",
              "      <th>population</th>\n",
              "      <th>households</th>\n",
              "      <th>median_income</th>\n",
              "      <th>median_house_value</th>\n",
              "      <th>ocean_proximity</th>\n",
              "    </tr>\n",
              "  </thead>\n",
              "  <tbody>\n",
              "    <tr>\n",
              "      <th>0</th>\n",
              "      <td>-122.23</td>\n",
              "      <td>37.88</td>\n",
              "      <td>41.0</td>\n",
              "      <td>880.0</td>\n",
              "      <td>129.0</td>\n",
              "      <td>322.0</td>\n",
              "      <td>126.0</td>\n",
              "      <td>8.3252</td>\n",
              "      <td>452600.0</td>\n",
              "      <td>NEAR BAY</td>\n",
              "    </tr>\n",
              "    <tr>\n",
              "      <th>1</th>\n",
              "      <td>-122.22</td>\n",
              "      <td>37.86</td>\n",
              "      <td>21.0</td>\n",
              "      <td>7099.0</td>\n",
              "      <td>1106.0</td>\n",
              "      <td>2401.0</td>\n",
              "      <td>1138.0</td>\n",
              "      <td>8.3014</td>\n",
              "      <td>358500.0</td>\n",
              "      <td>NEAR BAY</td>\n",
              "    </tr>\n",
              "    <tr>\n",
              "      <th>2</th>\n",
              "      <td>-122.24</td>\n",
              "      <td>37.85</td>\n",
              "      <td>52.0</td>\n",
              "      <td>1467.0</td>\n",
              "      <td>190.0</td>\n",
              "      <td>496.0</td>\n",
              "      <td>177.0</td>\n",
              "      <td>7.2574</td>\n",
              "      <td>352100.0</td>\n",
              "      <td>NEAR BAY</td>\n",
              "    </tr>\n",
              "    <tr>\n",
              "      <th>3</th>\n",
              "      <td>-122.25</td>\n",
              "      <td>37.85</td>\n",
              "      <td>52.0</td>\n",
              "      <td>1274.0</td>\n",
              "      <td>235.0</td>\n",
              "      <td>558.0</td>\n",
              "      <td>219.0</td>\n",
              "      <td>5.6431</td>\n",
              "      <td>341300.0</td>\n",
              "      <td>NEAR BAY</td>\n",
              "    </tr>\n",
              "    <tr>\n",
              "      <th>4</th>\n",
              "      <td>-122.25</td>\n",
              "      <td>37.85</td>\n",
              "      <td>52.0</td>\n",
              "      <td>1627.0</td>\n",
              "      <td>280.0</td>\n",
              "      <td>565.0</td>\n",
              "      <td>259.0</td>\n",
              "      <td>3.8462</td>\n",
              "      <td>342200.0</td>\n",
              "      <td>NEAR BAY</td>\n",
              "    </tr>\n",
              "  </tbody>\n",
              "</table>\n",
              "</div>"
            ],
            "text/plain": [
              "   longitude  latitude  ...  median_house_value  ocean_proximity\n",
              "0    -122.23     37.88  ...            452600.0         NEAR BAY\n",
              "1    -122.22     37.86  ...            358500.0         NEAR BAY\n",
              "2    -122.24     37.85  ...            352100.0         NEAR BAY\n",
              "3    -122.25     37.85  ...            341300.0         NEAR BAY\n",
              "4    -122.25     37.85  ...            342200.0         NEAR BAY\n",
              "\n",
              "[5 rows x 10 columns]"
            ]
          },
          "metadata": {
            "tags": []
          },
          "execution_count": 59
        }
      ]
    },
    {
      "cell_type": "code",
      "metadata": {
        "colab": {
          "base_uri": "https://localhost:8080/"
        },
        "id": "qVEfrhGJQZzW",
        "outputId": "cfddf642-9186-49ef-ef4e-cfe00b9cb893"
      },
      "source": [
        "data.dtypes"
      ],
      "execution_count": 60,
      "outputs": [
        {
          "output_type": "execute_result",
          "data": {
            "text/plain": [
              "longitude             float64\n",
              "latitude              float64\n",
              "housing_median_age    float64\n",
              "total_rooms           float64\n",
              "total_bedrooms        float64\n",
              "population            float64\n",
              "households            float64\n",
              "median_income         float64\n",
              "median_house_value    float64\n",
              "ocean_proximity        object\n",
              "dtype: object"
            ]
          },
          "metadata": {
            "tags": []
          },
          "execution_count": 60
        }
      ]
    },
    {
      "cell_type": "code",
      "metadata": {
        "id": "MmHgV8CdQZzW"
      },
      "source": [
        "# dummy values for ocean_proximity\n",
        "# data = pd.get_dummies(data,drop_first=True)\n",
        "# data.isna().sum()"
      ],
      "execution_count": 61,
      "outputs": []
    },
    {
      "cell_type": "code",
      "metadata": {
        "colab": {
          "base_uri": "https://localhost:8080/"
        },
        "id": "Hdry-qQWQZzW",
        "outputId": "bd2ba90b-0773-4125-e72e-9b3bca6a0380"
      },
      "source": [
        "data.info()"
      ],
      "execution_count": 62,
      "outputs": [
        {
          "output_type": "stream",
          "text": [
            "<class 'pandas.core.frame.DataFrame'>\n",
            "RangeIndex: 20640 entries, 0 to 20639\n",
            "Data columns (total 10 columns):\n",
            " #   Column              Non-Null Count  Dtype  \n",
            "---  ------              --------------  -----  \n",
            " 0   longitude           20640 non-null  float64\n",
            " 1   latitude            20640 non-null  float64\n",
            " 2   housing_median_age  20640 non-null  float64\n",
            " 3   total_rooms         20640 non-null  float64\n",
            " 4   total_bedrooms      20433 non-null  float64\n",
            " 5   population          20640 non-null  float64\n",
            " 6   households          20640 non-null  float64\n",
            " 7   median_income       20640 non-null  float64\n",
            " 8   median_house_value  20640 non-null  float64\n",
            " 9   ocean_proximity     20640 non-null  object \n",
            "dtypes: float64(9), object(1)\n",
            "memory usage: 1.6+ MB\n"
          ],
          "name": "stdout"
        }
      ]
    },
    {
      "cell_type": "code",
      "metadata": {
        "colab": {
          "base_uri": "https://localhost:8080/"
        },
        "id": "JzbwFlxbQZzW",
        "outputId": "e2f943a8-844c-44be-c8de-ddbfd6cef956"
      },
      "source": [
        "data['total_bedrooms'].isnull().any()"
      ],
      "execution_count": 63,
      "outputs": [
        {
          "output_type": "execute_result",
          "data": {
            "text/plain": [
              "True"
            ]
          },
          "metadata": {
            "tags": []
          },
          "execution_count": 63
        }
      ]
    },
    {
      "cell_type": "code",
      "metadata": {
        "colab": {
          "base_uri": "https://localhost:8080/"
        },
        "id": "OcC8QAmkQZzW",
        "outputId": "8fc0a564-53d0-4a1b-bbe1-d2b4dc755527"
      },
      "source": [
        "# Removing null values in 'total_bedrooms' with median value\n",
        "median_bedrooms = data['total_bedrooms'].median()\n",
        "data['total_bedrooms'].fillna(median_bedrooms,inplace=True)\n",
        "data['total_bedrooms'].isnull().any()"
      ],
      "execution_count": 64,
      "outputs": [
        {
          "output_type": "execute_result",
          "data": {
            "text/plain": [
              "False"
            ]
          },
          "metadata": {
            "tags": []
          },
          "execution_count": 64
        }
      ]
    },
    {
      "cell_type": "code",
      "metadata": {
        "colab": {
          "base_uri": "https://localhost:8080/",
          "height": 714
        },
        "id": "PM9tPh0iQZzW",
        "outputId": "c073b3b8-58fd-4872-e728-434259cd8d98"
      },
      "source": [
        "%matplotlib inline\n",
        "import matplotlib.pyplot as plt\n",
        "data.hist(bins=50, figsize=(20,15))\n",
        "plt.show()"
      ],
      "execution_count": 65,
      "outputs": [
        {
          "output_type": "display_data",
          "data": {
            "image/png": "[encoded data removed]",
            "text/plain": [
              "<Figure size 1440x1080 with 9 Axes>"
            ]
          },
          "metadata": {
            "tags": [],
            "needs_background": "light"
          }
        }
      ]
    },
    {
      "cell_type": "code",
      "metadata": {
        "id": "S0UmSkmiQZzX"
      },
      "source": [
        ""
      ],
      "execution_count": 65,
      "outputs": []
    },
    {
      "cell_type": "code",
      "metadata": {
        "colab": {
          "base_uri": "https://localhost:8080/",
          "height": 446
        },
        "id": "TEI4Ut-4QZzX",
        "outputId": "1dc04779-b1e4-4450-da78-f26288419574"
      },
      "source": [
        "# Outliers\n",
        "import seaborn as sns\n",
        "columns = ['households','population','total_bedrooms','total_rooms']\n",
        "plt.figure(figsize=(10,7))\n",
        "sns.boxplot(data=data[columns])\n"
      ],
      "execution_count": 66,
      "outputs": [
        {
          "output_type": "execute_result",
          "data": {
            "text/plain": [
              "<matplotlib.axes._subplots.AxesSubplot at 0x7f58cd881710>"
            ]
          },
          "metadata": {
            "tags": []
          },
          "execution_count": 66
        },
        {
          "output_type": "display_data",
          "data": {
            "image/png": "[encoded data removed]",
            "text/plain": [
              "<Figure size 720x504 with 1 Axes>"
            ]
          },
          "metadata": {
            "tags": [],
            "needs_background": "light"
          }
        }
      ]
    },
    {
      "cell_type": "code",
      "metadata": {
        "colab": {
          "base_uri": "https://localhost:8080/"
        },
        "id": "3PS4JkawQZzX",
        "outputId": "daa23fa9-646c-4de4-c9a7-acaca081c0a1"
      },
      "source": [
        "# calculating number of outliers in data. (ignore that of ocean_proximity)\n",
        "Q1 = data.quantile(0.25)\n",
        "Q3 = data.quantile(0.75)\n",
        "IQR = Q3-Q1\n",
        "High = (Q3) + 1.5*IQR\n",
        "Low = (Q1) - 1.5*IQR\n",
        "\n",
        "((data < Low) | (data > High)).sum()"
      ],
      "execution_count": 67,
      "outputs": [
        {
          "output_type": "execute_result",
          "data": {
            "text/plain": [
              "households            1220\n",
              "housing_median_age       0\n",
              "latitude                 0\n",
              "longitude                0\n",
              "median_house_value    1071\n",
              "median_income          681\n",
              "ocean_proximity          0\n",
              "population            1196\n",
              "total_bedrooms        1306\n",
              "total_rooms           1287\n",
              "dtype: int64"
            ]
          },
          "metadata": {
            "tags": []
          },
          "execution_count": 67
        }
      ]
    },
    {
      "cell_type": "code",
      "metadata": {
        "colab": {
          "base_uri": "https://localhost:8080/",
          "height": 249
        },
        "id": "kPMMY0gmQZzX",
        "outputId": "bfd0340f-58e0-4131-e1f9-1ce15fcabb4b"
      },
      "source": [
        "corr = data.corr()\n",
        "corr.style.background_gradient()"
      ],
      "execution_count": 68,
      "outputs": [
        {
          "output_type": "execute_result",
          "data": {
            "text/html": [
              "<style  type=\"text/css\" >\n",
              "#T_a3994488_3335_11eb_af06_0242ac1c0002row0_col0,#T_a3994488_3335_11eb_af06_0242ac1c0002row1_col1,#T_a3994488_3335_11eb_af06_0242ac1c0002row2_col2,#T_a3994488_3335_11eb_af06_0242ac1c0002row3_col3,#T_a3994488_3335_11eb_af06_0242ac1c0002row4_col4,#T_a3994488_3335_11eb_af06_0242ac1c0002row5_col5,#T_a3994488_3335_11eb_af06_0242ac1c0002row6_col6,#T_a3994488_3335_11eb_af06_0242ac1c0002row7_col7,#T_a3994488_3335_11eb_af06_0242ac1c0002row8_col8{\n",
              "            background-color:  #023858;\n",
              "            color:  #f1f1f1;\n",
              "        }#T_a3994488_3335_11eb_af06_0242ac1c0002row0_col1,#T_a3994488_3335_11eb_af06_0242ac1c0002row1_col0,#T_a3994488_3335_11eb_af06_0242ac1c0002row1_col8,#T_a3994488_3335_11eb_af06_0242ac1c0002row2_col3,#T_a3994488_3335_11eb_af06_0242ac1c0002row2_col4,#T_a3994488_3335_11eb_af06_0242ac1c0002row2_col5,#T_a3994488_3335_11eb_af06_0242ac1c0002row2_col6,#T_a3994488_3335_11eb_af06_0242ac1c0002row2_col7,#T_a3994488_3335_11eb_af06_0242ac1c0002row3_col2{\n",
              "            background-color:  #fff7fb;\n",
              "            color:  #000000;\n",
              "        }#T_a3994488_3335_11eb_af06_0242ac1c0002row0_col2{\n",
              "            background-color:  #dfddec;\n",
              "            color:  #000000;\n",
              "        }#T_a3994488_3335_11eb_af06_0242ac1c0002row0_col3{\n",
              "            background-color:  #c0c9e2;\n",
              "            color:  #000000;\n",
              "        }#T_a3994488_3335_11eb_af06_0242ac1c0002row0_col4{\n",
              "            background-color:  #c1cae2;\n",
              "            color:  #000000;\n",
              "        }#T_a3994488_3335_11eb_af06_0242ac1c0002row0_col5{\n",
              "            background-color:  #bdc8e1;\n",
              "            color:  #000000;\n",
              "        }#T_a3994488_3335_11eb_af06_0242ac1c0002row0_col6,#T_a3994488_3335_11eb_af06_0242ac1c0002row1_col2{\n",
              "            background-color:  #c8cde4;\n",
              "            color:  #000000;\n",
              "        }#T_a3994488_3335_11eb_af06_0242ac1c0002row0_col7{\n",
              "            background-color:  #f1ebf5;\n",
              "            color:  #000000;\n",
              "        }#T_a3994488_3335_11eb_af06_0242ac1c0002row0_col8{\n",
              "            background-color:  #f2ecf5;\n",
              "            color:  #000000;\n",
              "        }#T_a3994488_3335_11eb_af06_0242ac1c0002row1_col3{\n",
              "            background-color:  #d2d3e7;\n",
              "            color:  #000000;\n",
              "        }#T_a3994488_3335_11eb_af06_0242ac1c0002row1_col4{\n",
              "            background-color:  #dddbec;\n",
              "            color:  #000000;\n",
              "        }#T_a3994488_3335_11eb_af06_0242ac1c0002row1_col5{\n",
              "            background-color:  #e7e3f0;\n",
              "            color:  #000000;\n",
              "        }#T_a3994488_3335_11eb_af06_0242ac1c0002row1_col6,#T_a3994488_3335_11eb_af06_0242ac1c0002row7_col2{\n",
              "            background-color:  #e0deed;\n",
              "            color:  #000000;\n",
              "        }#T_a3994488_3335_11eb_af06_0242ac1c0002row1_col7{\n",
              "            background-color:  #faf3f9;\n",
              "            color:  #000000;\n",
              "        }#T_a3994488_3335_11eb_af06_0242ac1c0002row2_col0,#T_a3994488_3335_11eb_af06_0242ac1c0002row5_col1{\n",
              "            background-color:  #93b5d6;\n",
              "            color:  #000000;\n",
              "        }#T_a3994488_3335_11eb_af06_0242ac1c0002row2_col1{\n",
              "            background-color:  #79abd0;\n",
              "            color:  #000000;\n",
              "        }#T_a3994488_3335_11eb_af06_0242ac1c0002row2_col8{\n",
              "            background-color:  #d8d7e9;\n",
              "            color:  #000000;\n",
              "        }#T_a3994488_3335_11eb_af06_0242ac1c0002row3_col0{\n",
              "            background-color:  #73a9cf;\n",
              "            color:  #000000;\n",
              "        }#T_a3994488_3335_11eb_af06_0242ac1c0002row3_col1{\n",
              "            background-color:  #83afd3;\n",
              "            color:  #000000;\n",
              "        }#T_a3994488_3335_11eb_af06_0242ac1c0002row3_col4{\n",
              "            background-color:  #03476f;\n",
              "            color:  #f1f1f1;\n",
              "        }#T_a3994488_3335_11eb_af06_0242ac1c0002row3_col5{\n",
              "            background-color:  #045687;\n",
              "            color:  #f1f1f1;\n",
              "        }#T_a3994488_3335_11eb_af06_0242ac1c0002row3_col6{\n",
              "            background-color:  #034973;\n",
              "            color:  #f1f1f1;\n",
              "        }#T_a3994488_3335_11eb_af06_0242ac1c0002row3_col7,#T_a3994488_3335_11eb_af06_0242ac1c0002row8_col6{\n",
              "            background-color:  #c5cce3;\n",
              "            color:  #000000;\n",
              "        }#T_a3994488_3335_11eb_af06_0242ac1c0002row3_col8,#T_a3994488_3335_11eb_af06_0242ac1c0002row7_col6{\n",
              "            background-color:  #d2d2e7;\n",
              "            color:  #000000;\n",
              "        }#T_a3994488_3335_11eb_af06_0242ac1c0002row4_col0{\n",
              "            background-color:  #6ba5cd;\n",
              "            color:  #000000;\n",
              "        }#T_a3994488_3335_11eb_af06_0242ac1c0002row4_col1{\n",
              "            background-color:  #89b1d4;\n",
              "            color:  #000000;\n",
              "        }#T_a3994488_3335_11eb_af06_0242ac1c0002row4_col2{\n",
              "            background-color:  #fbf3f9;\n",
              "            color:  #000000;\n",
              "        }#T_a3994488_3335_11eb_af06_0242ac1c0002row4_col3{\n",
              "            background-color:  #03466e;\n",
              "            color:  #f1f1f1;\n",
              "        }#T_a3994488_3335_11eb_af06_0242ac1c0002row4_col5,#T_a3994488_3335_11eb_af06_0242ac1c0002row5_col4{\n",
              "            background-color:  #045280;\n",
              "            color:  #f1f1f1;\n",
              "        }#T_a3994488_3335_11eb_af06_0242ac1c0002row4_col6{\n",
              "            background-color:  #023d60;\n",
              "            color:  #f1f1f1;\n",
              "        }#T_a3994488_3335_11eb_af06_0242ac1c0002row4_col7,#T_a3994488_3335_11eb_af06_0242ac1c0002row5_col8{\n",
              "            background-color:  #f0eaf4;\n",
              "            color:  #000000;\n",
              "        }#T_a3994488_3335_11eb_af06_0242ac1c0002row4_col8{\n",
              "            background-color:  #e2dfee;\n",
              "            color:  #000000;\n",
              "        }#T_a3994488_3335_11eb_af06_0242ac1c0002row5_col0{\n",
              "            background-color:  #63a2cb;\n",
              "            color:  #000000;\n",
              "        }#T_a3994488_3335_11eb_af06_0242ac1c0002row5_col2{\n",
              "            background-color:  #f8f1f8;\n",
              "            color:  #000000;\n",
              "        }#T_a3994488_3335_11eb_af06_0242ac1c0002row5_col3{\n",
              "            background-color:  #045483;\n",
              "            color:  #f1f1f1;\n",
              "        }#T_a3994488_3335_11eb_af06_0242ac1c0002row5_col6,#T_a3994488_3335_11eb_af06_0242ac1c0002row6_col5{\n",
              "            background-color:  #034b76;\n",
              "            color:  #f1f1f1;\n",
              "        }#T_a3994488_3335_11eb_af06_0242ac1c0002row5_col7{\n",
              "            background-color:  #eee9f3;\n",
              "            color:  #000000;\n",
              "        }#T_a3994488_3335_11eb_af06_0242ac1c0002row6_col0{\n",
              "            background-color:  #6fa7ce;\n",
              "            color:  #000000;\n",
              "        }#T_a3994488_3335_11eb_af06_0242ac1c0002row6_col1{\n",
              "            background-color:  #8bb2d4;\n",
              "            color:  #000000;\n",
              "        }#T_a3994488_3335_11eb_af06_0242ac1c0002row6_col2{\n",
              "            background-color:  #f9f2f8;\n",
              "            color:  #000000;\n",
              "        }#T_a3994488_3335_11eb_af06_0242ac1c0002row6_col3{\n",
              "            background-color:  #034871;\n",
              "            color:  #f1f1f1;\n",
              "        }#T_a3994488_3335_11eb_af06_0242ac1c0002row6_col4{\n",
              "            background-color:  #023c5f;\n",
              "            color:  #f1f1f1;\n",
              "        }#T_a3994488_3335_11eb_af06_0242ac1c0002row6_col7{\n",
              "            background-color:  #ede8f3;\n",
              "            color:  #000000;\n",
              "        }#T_a3994488_3335_11eb_af06_0242ac1c0002row6_col8{\n",
              "            background-color:  #e0dded;\n",
              "            color:  #000000;\n",
              "        }#T_a3994488_3335_11eb_af06_0242ac1c0002row7_col0{\n",
              "            background-color:  #80aed2;\n",
              "            color:  #000000;\n",
              "        }#T_a3994488_3335_11eb_af06_0242ac1c0002row7_col1{\n",
              "            background-color:  #8cb3d5;\n",
              "            color:  #000000;\n",
              "        }#T_a3994488_3335_11eb_af06_0242ac1c0002row7_col3{\n",
              "            background-color:  #97b7d7;\n",
              "            color:  #000000;\n",
              "        }#T_a3994488_3335_11eb_af06_0242ac1c0002row7_col4{\n",
              "            background-color:  #d3d4e7;\n",
              "            color:  #000000;\n",
              "        }#T_a3994488_3335_11eb_af06_0242ac1c0002row7_col5{\n",
              "            background-color:  #d4d4e8;\n",
              "            color:  #000000;\n",
              "        }#T_a3994488_3335_11eb_af06_0242ac1c0002row7_col8{\n",
              "            background-color:  #0d75b3;\n",
              "            color:  #f1f1f1;\n",
              "        }#T_a3994488_3335_11eb_af06_0242ac1c0002row8_col0{\n",
              "            background-color:  #86b0d3;\n",
              "            color:  #000000;\n",
              "        }#T_a3994488_3335_11eb_af06_0242ac1c0002row8_col1{\n",
              "            background-color:  #9ab8d8;\n",
              "            color:  #000000;\n",
              "        }#T_a3994488_3335_11eb_af06_0242ac1c0002row8_col2{\n",
              "            background-color:  #b1c2de;\n",
              "            color:  #000000;\n",
              "        }#T_a3994488_3335_11eb_af06_0242ac1c0002row8_col3{\n",
              "            background-color:  #a9bfdc;\n",
              "            color:  #000000;\n",
              "        }#T_a3994488_3335_11eb_af06_0242ac1c0002row8_col4{\n",
              "            background-color:  #c6cce3;\n",
              "            color:  #000000;\n",
              "        }#T_a3994488_3335_11eb_af06_0242ac1c0002row8_col5{\n",
              "            background-color:  #d9d8ea;\n",
              "            color:  #000000;\n",
              "        }#T_a3994488_3335_11eb_af06_0242ac1c0002row8_col7{\n",
              "            background-color:  #1077b4;\n",
              "            color:  #f1f1f1;\n",
              "        }</style><table id=\"T_a3994488_3335_11eb_af06_0242ac1c0002\" ><thead>    <tr>        <th class=\"blank level0\" ></th>        <th class=\"col_heading level0 col0\" >longitude</th>        <th class=\"col_heading level0 col1\" >latitude</th>        <th class=\"col_heading level0 col2\" >housing_median_age</th>        <th class=\"col_heading level0 col3\" >total_rooms</th>        <th class=\"col_heading level0 col4\" >total_bedrooms</th>        <th class=\"col_heading level0 col5\" >population</th>        <th class=\"col_heading level0 col6\" >households</th>        <th class=\"col_heading level0 col7\" >median_income</th>        <th class=\"col_heading level0 col8\" >median_house_value</th>    </tr></thead><tbody>\n",
              "                <tr>\n",
              "                        <th id=\"T_a3994488_3335_11eb_af06_0242ac1c0002level0_row0\" class=\"row_heading level0 row0\" >longitude</th>\n",
              "                        <td id=\"T_a3994488_3335_11eb_af06_0242ac1c0002row0_col0\" class=\"data row0 col0\" >1.000000</td>\n",
              "                        <td id=\"T_a3994488_3335_11eb_af06_0242ac1c0002row0_col1\" class=\"data row0 col1\" >-0.924664</td>\n",
              "                        <td id=\"T_a3994488_3335_11eb_af06_0242ac1c0002row0_col2\" class=\"data row0 col2\" >-0.108197</td>\n",
              "                        <td id=\"T_a3994488_3335_11eb_af06_0242ac1c0002row0_col3\" class=\"data row0 col3\" >0.044568</td>\n",
              "                        <td id=\"T_a3994488_3335_11eb_af06_0242ac1c0002row0_col4\" class=\"data row0 col4\" >0.069120</td>\n",
              "                        <td id=\"T_a3994488_3335_11eb_af06_0242ac1c0002row0_col5\" class=\"data row0 col5\" >0.099773</td>\n",
              "                        <td id=\"T_a3994488_3335_11eb_af06_0242ac1c0002row0_col6\" class=\"data row0 col6\" >0.055310</td>\n",
              "                        <td id=\"T_a3994488_3335_11eb_af06_0242ac1c0002row0_col7\" class=\"data row0 col7\" >-0.015176</td>\n",
              "                        <td id=\"T_a3994488_3335_11eb_af06_0242ac1c0002row0_col8\" class=\"data row0 col8\" >-0.045967</td>\n",
              "            </tr>\n",
              "            <tr>\n",
              "                        <th id=\"T_a3994488_3335_11eb_af06_0242ac1c0002level0_row1\" class=\"row_heading level0 row1\" >latitude</th>\n",
              "                        <td id=\"T_a3994488_3335_11eb_af06_0242ac1c0002row1_col0\" class=\"data row1 col0\" >-0.924664</td>\n",
              "                        <td id=\"T_a3994488_3335_11eb_af06_0242ac1c0002row1_col1\" class=\"data row1 col1\" >1.000000</td>\n",
              "                        <td id=\"T_a3994488_3335_11eb_af06_0242ac1c0002row1_col2\" class=\"data row1 col2\" >0.011173</td>\n",
              "                        <td id=\"T_a3994488_3335_11eb_af06_0242ac1c0002row1_col3\" class=\"data row1 col3\" >-0.036100</td>\n",
              "                        <td id=\"T_a3994488_3335_11eb_af06_0242ac1c0002row1_col4\" class=\"data row1 col4\" >-0.066484</td>\n",
              "                        <td id=\"T_a3994488_3335_11eb_af06_0242ac1c0002row1_col5\" class=\"data row1 col5\" >-0.108785</td>\n",
              "                        <td id=\"T_a3994488_3335_11eb_af06_0242ac1c0002row1_col6\" class=\"data row1 col6\" >-0.071035</td>\n",
              "                        <td id=\"T_a3994488_3335_11eb_af06_0242ac1c0002row1_col7\" class=\"data row1 col7\" >-0.079809</td>\n",
              "                        <td id=\"T_a3994488_3335_11eb_af06_0242ac1c0002row1_col8\" class=\"data row1 col8\" >-0.144160</td>\n",
              "            </tr>\n",
              "            <tr>\n",
              "                        <th id=\"T_a3994488_3335_11eb_af06_0242ac1c0002level0_row2\" class=\"row_heading level0 row2\" >housing_median_age</th>\n",
              "                        <td id=\"T_a3994488_3335_11eb_af06_0242ac1c0002row2_col0\" class=\"data row2 col0\" >-0.108197</td>\n",
              "                        <td id=\"T_a3994488_3335_11eb_af06_0242ac1c0002row2_col1\" class=\"data row2 col1\" >0.011173</td>\n",
              "                        <td id=\"T_a3994488_3335_11eb_af06_0242ac1c0002row2_col2\" class=\"data row2 col2\" >1.000000</td>\n",
              "                        <td id=\"T_a3994488_3335_11eb_af06_0242ac1c0002row2_col3\" class=\"data row2 col3\" >-0.361262</td>\n",
              "                        <td id=\"T_a3994488_3335_11eb_af06_0242ac1c0002row2_col4\" class=\"data row2 col4\" >-0.319026</td>\n",
              "                        <td id=\"T_a3994488_3335_11eb_af06_0242ac1c0002row2_col5\" class=\"data row2 col5\" >-0.296244</td>\n",
              "                        <td id=\"T_a3994488_3335_11eb_af06_0242ac1c0002row2_col6\" class=\"data row2 col6\" >-0.302916</td>\n",
              "                        <td id=\"T_a3994488_3335_11eb_af06_0242ac1c0002row2_col7\" class=\"data row2 col7\" >-0.119034</td>\n",
              "                        <td id=\"T_a3994488_3335_11eb_af06_0242ac1c0002row2_col8\" class=\"data row2 col8\" >0.105623</td>\n",
              "            </tr>\n",
              "            <tr>\n",
              "                        <th id=\"T_a3994488_3335_11eb_af06_0242ac1c0002level0_row3\" class=\"row_heading level0 row3\" >total_rooms</th>\n",
              "                        <td id=\"T_a3994488_3335_11eb_af06_0242ac1c0002row3_col0\" class=\"data row3 col0\" >0.044568</td>\n",
              "                        <td id=\"T_a3994488_3335_11eb_af06_0242ac1c0002row3_col1\" class=\"data row3 col1\" >-0.036100</td>\n",
              "                        <td id=\"T_a3994488_3335_11eb_af06_0242ac1c0002row3_col2\" class=\"data row3 col2\" >-0.361262</td>\n",
              "                        <td id=\"T_a3994488_3335_11eb_af06_0242ac1c0002row3_col3\" class=\"data row3 col3\" >1.000000</td>\n",
              "                        <td id=\"T_a3994488_3335_11eb_af06_0242ac1c0002row3_col4\" class=\"data row3 col4\" >0.927058</td>\n",
              "                        <td id=\"T_a3994488_3335_11eb_af06_0242ac1c0002row3_col5\" class=\"data row3 col5\" >0.857126</td>\n",
              "                        <td id=\"T_a3994488_3335_11eb_af06_0242ac1c0002row3_col6\" class=\"data row3 col6\" >0.918484</td>\n",
              "                        <td id=\"T_a3994488_3335_11eb_af06_0242ac1c0002row3_col7\" class=\"data row3 col7\" >0.198050</td>\n",
              "                        <td id=\"T_a3994488_3335_11eb_af06_0242ac1c0002row3_col8\" class=\"data row3 col8\" >0.134153</td>\n",
              "            </tr>\n",
              "            <tr>\n",
              "                        <th id=\"T_a3994488_3335_11eb_af06_0242ac1c0002level0_row4\" class=\"row_heading level0 row4\" >total_bedrooms</th>\n",
              "                        <td id=\"T_a3994488_3335_11eb_af06_0242ac1c0002row4_col0\" class=\"data row4 col0\" >0.069120</td>\n",
              "                        <td id=\"T_a3994488_3335_11eb_af06_0242ac1c0002row4_col1\" class=\"data row4 col1\" >-0.066484</td>\n",
              "                        <td id=\"T_a3994488_3335_11eb_af06_0242ac1c0002row4_col2\" class=\"data row4 col2\" >-0.319026</td>\n",
              "                        <td id=\"T_a3994488_3335_11eb_af06_0242ac1c0002row4_col3\" class=\"data row4 col3\" >0.927058</td>\n",
              "                        <td id=\"T_a3994488_3335_11eb_af06_0242ac1c0002row4_col4\" class=\"data row4 col4\" >1.000000</td>\n",
              "                        <td id=\"T_a3994488_3335_11eb_af06_0242ac1c0002row4_col5\" class=\"data row4 col5\" >0.873535</td>\n",
              "                        <td id=\"T_a3994488_3335_11eb_af06_0242ac1c0002row4_col6\" class=\"data row4 col6\" >0.974366</td>\n",
              "                        <td id=\"T_a3994488_3335_11eb_af06_0242ac1c0002row4_col7\" class=\"data row4 col7\" >-0.007617</td>\n",
              "                        <td id=\"T_a3994488_3335_11eb_af06_0242ac1c0002row4_col8\" class=\"data row4 col8\" >0.049457</td>\n",
              "            </tr>\n",
              "            <tr>\n",
              "                        <th id=\"T_a3994488_3335_11eb_af06_0242ac1c0002level0_row5\" class=\"row_heading level0 row5\" >population</th>\n",
              "                        <td id=\"T_a3994488_3335_11eb_af06_0242ac1c0002row5_col0\" class=\"data row5 col0\" >0.099773</td>\n",
              "                        <td id=\"T_a3994488_3335_11eb_af06_0242ac1c0002row5_col1\" class=\"data row5 col1\" >-0.108785</td>\n",
              "                        <td id=\"T_a3994488_3335_11eb_af06_0242ac1c0002row5_col2\" class=\"data row5 col2\" >-0.296244</td>\n",
              "                        <td id=\"T_a3994488_3335_11eb_af06_0242ac1c0002row5_col3\" class=\"data row5 col3\" >0.857126</td>\n",
              "                        <td id=\"T_a3994488_3335_11eb_af06_0242ac1c0002row5_col4\" class=\"data row5 col4\" >0.873535</td>\n",
              "                        <td id=\"T_a3994488_3335_11eb_af06_0242ac1c0002row5_col5\" class=\"data row5 col5\" >1.000000</td>\n",
              "                        <td id=\"T_a3994488_3335_11eb_af06_0242ac1c0002row5_col6\" class=\"data row5 col6\" >0.907222</td>\n",
              "                        <td id=\"T_a3994488_3335_11eb_af06_0242ac1c0002row5_col7\" class=\"data row5 col7\" >0.004834</td>\n",
              "                        <td id=\"T_a3994488_3335_11eb_af06_0242ac1c0002row5_col8\" class=\"data row5 col8\" >-0.024650</td>\n",
              "            </tr>\n",
              "            <tr>\n",
              "                        <th id=\"T_a3994488_3335_11eb_af06_0242ac1c0002level0_row6\" class=\"row_heading level0 row6\" >households</th>\n",
              "                        <td id=\"T_a3994488_3335_11eb_af06_0242ac1c0002row6_col0\" class=\"data row6 col0\" >0.055310</td>\n",
              "                        <td id=\"T_a3994488_3335_11eb_af06_0242ac1c0002row6_col1\" class=\"data row6 col1\" >-0.071035</td>\n",
              "                        <td id=\"T_a3994488_3335_11eb_af06_0242ac1c0002row6_col2\" class=\"data row6 col2\" >-0.302916</td>\n",
              "                        <td id=\"T_a3994488_3335_11eb_af06_0242ac1c0002row6_col3\" class=\"data row6 col3\" >0.918484</td>\n",
              "                        <td id=\"T_a3994488_3335_11eb_af06_0242ac1c0002row6_col4\" class=\"data row6 col4\" >0.974366</td>\n",
              "                        <td id=\"T_a3994488_3335_11eb_af06_0242ac1c0002row6_col5\" class=\"data row6 col5\" >0.907222</td>\n",
              "                        <td id=\"T_a3994488_3335_11eb_af06_0242ac1c0002row6_col6\" class=\"data row6 col6\" >1.000000</td>\n",
              "                        <td id=\"T_a3994488_3335_11eb_af06_0242ac1c0002row6_col7\" class=\"data row6 col7\" >0.013033</td>\n",
              "                        <td id=\"T_a3994488_3335_11eb_af06_0242ac1c0002row6_col8\" class=\"data row6 col8\" >0.065843</td>\n",
              "            </tr>\n",
              "            <tr>\n",
              "                        <th id=\"T_a3994488_3335_11eb_af06_0242ac1c0002level0_row7\" class=\"row_heading level0 row7\" >median_income</th>\n",
              "                        <td id=\"T_a3994488_3335_11eb_af06_0242ac1c0002row7_col0\" class=\"data row7 col0\" >-0.015176</td>\n",
              "                        <td id=\"T_a3994488_3335_11eb_af06_0242ac1c0002row7_col1\" class=\"data row7 col1\" >-0.079809</td>\n",
              "                        <td id=\"T_a3994488_3335_11eb_af06_0242ac1c0002row7_col2\" class=\"data row7 col2\" >-0.119034</td>\n",
              "                        <td id=\"T_a3994488_3335_11eb_af06_0242ac1c0002row7_col3\" class=\"data row7 col3\" >0.198050</td>\n",
              "                        <td id=\"T_a3994488_3335_11eb_af06_0242ac1c0002row7_col4\" class=\"data row7 col4\" >-0.007617</td>\n",
              "                        <td id=\"T_a3994488_3335_11eb_af06_0242ac1c0002row7_col5\" class=\"data row7 col5\" >0.004834</td>\n",
              "                        <td id=\"T_a3994488_3335_11eb_af06_0242ac1c0002row7_col6\" class=\"data row7 col6\" >0.013033</td>\n",
              "                        <td id=\"T_a3994488_3335_11eb_af06_0242ac1c0002row7_col7\" class=\"data row7 col7\" >1.000000</td>\n",
              "                        <td id=\"T_a3994488_3335_11eb_af06_0242ac1c0002row7_col8\" class=\"data row7 col8\" >0.688075</td>\n",
              "            </tr>\n",
              "            <tr>\n",
              "                        <th id=\"T_a3994488_3335_11eb_af06_0242ac1c0002level0_row8\" class=\"row_heading level0 row8\" >median_house_value</th>\n",
              "                        <td id=\"T_a3994488_3335_11eb_af06_0242ac1c0002row8_col0\" class=\"data row8 col0\" >-0.045967</td>\n",
              "                        <td id=\"T_a3994488_3335_11eb_af06_0242ac1c0002row8_col1\" class=\"data row8 col1\" >-0.144160</td>\n",
              "                        <td id=\"T_a3994488_3335_11eb_af06_0242ac1c0002row8_col2\" class=\"data row8 col2\" >0.105623</td>\n",
              "                        <td id=\"T_a3994488_3335_11eb_af06_0242ac1c0002row8_col3\" class=\"data row8 col3\" >0.134153</td>\n",
              "                        <td id=\"T_a3994488_3335_11eb_af06_0242ac1c0002row8_col4\" class=\"data row8 col4\" >0.049457</td>\n",
              "                        <td id=\"T_a3994488_3335_11eb_af06_0242ac1c0002row8_col5\" class=\"data row8 col5\" >-0.024650</td>\n",
              "                        <td id=\"T_a3994488_3335_11eb_af06_0242ac1c0002row8_col6\" class=\"data row8 col6\" >0.065843</td>\n",
              "                        <td id=\"T_a3994488_3335_11eb_af06_0242ac1c0002row8_col7\" class=\"data row8 col7\" >0.688075</td>\n",
              "                        <td id=\"T_a3994488_3335_11eb_af06_0242ac1c0002row8_col8\" class=\"data row8 col8\" >1.000000</td>\n",
              "            </tr>\n",
              "    </tbody></table>"
            ],
            "text/plain": [
              "<pandas.io.formats.style.Styler at 0x7f58cdc51ba8>"
            ]
          },
          "metadata": {
            "tags": []
          },
          "execution_count": 68
        }
      ]
    },
    {
      "cell_type": "code",
      "metadata": {
        "colab": {
          "base_uri": "https://localhost:8080/",
          "height": 352
        },
        "id": "6OTwBAvtQZzX",
        "outputId": "90e761ed-ef08-48e0-c1e9-ab7ca3119aaa"
      },
      "source": [
        "\n",
        "plt.figure(figsize=(15,5))\n",
        "sns.boxplot(x=data['median_house_value'])"
      ],
      "execution_count": 69,
      "outputs": [
        {
          "output_type": "execute_result",
          "data": {
            "text/plain": [
              "<matplotlib.axes._subplots.AxesSubplot at 0x7f58d9dac2b0>"
            ]
          },
          "metadata": {
            "tags": []
          },
          "execution_count": 69
        },
        {
          "output_type": "display_data",
          "data": {
            "image/png": "[encoded data removed]",
            "text/plain": [
              "<Figure size 1080x360 with 1 Axes>"
            ]
          },
          "metadata": {
            "tags": [],
            "needs_background": "light"
          }
        }
      ]
    },
    {
      "cell_type": "code",
      "metadata": {
        "id": "TATVEPM8QZzX"
      },
      "source": [
        "data = data.loc[data['median_house_value']<500001,:]\n"
      ],
      "execution_count": 70,
      "outputs": []
    },
    {
      "cell_type": "code",
      "metadata": {
        "colab": {
          "base_uri": "https://localhost:8080/"
        },
        "id": "YXSnBIx1QZzX",
        "outputId": "5e90163f-6acf-4ac3-bead-75e81e552cf2"
      },
      "source": [
        "data.isna().sum()"
      ],
      "execution_count": 71,
      "outputs": [
        {
          "output_type": "execute_result",
          "data": {
            "text/plain": [
              "longitude             0\n",
              "latitude              0\n",
              "housing_median_age    0\n",
              "total_rooms           0\n",
              "total_bedrooms        0\n",
              "population            0\n",
              "households            0\n",
              "median_income         0\n",
              "median_house_value    0\n",
              "ocean_proximity       0\n",
              "dtype: int64"
            ]
          },
          "metadata": {
            "tags": []
          },
          "execution_count": 71
        }
      ]
    },
    {
      "cell_type": "code",
      "metadata": {
        "colab": {
          "base_uri": "https://localhost:8080/"
        },
        "id": "ZOATuFRqQZzX",
        "outputId": "ca7586a5-eb3c-4957-908e-4cc0715b94c3"
      },
      "source": [
        "data['ocean_proximity'].value_counts()\n"
      ],
      "execution_count": 72,
      "outputs": [
        {
          "output_type": "execute_result",
          "data": {
            "text/plain": [
              "<1H OCEAN     8604\n",
              "INLAND        6524\n",
              "NEAR OCEAN    2446\n",
              "NEAR BAY      2096\n",
              "ISLAND           5\n",
              "Name: ocean_proximity, dtype: int64"
            ]
          },
          "metadata": {
            "tags": []
          },
          "execution_count": 72
        }
      ]
    },
    {
      "cell_type": "code",
      "metadata": {
        "colab": {
          "base_uri": "https://localhost:8080/",
          "height": 162
        },
        "id": "-pmx47xeQZzX",
        "outputId": "7cb38d36-1a74-4bca-c500-1b0b701411fc"
      },
      "source": [
        "def to_numbers(val):\n",
        "    if val == '<1H OCEAN':\n",
        "        return 0\n",
        "    elif val == 'INLAND':\n",
        "        return 1\n",
        "    elif val == 'NEAR OCEAN':\n",
        "        return 2\n",
        "    elif val == 'NEAR BAY':\n",
        "        return 3\n",
        "    elif val == 'ISLAND':\n",
        "        return 4\n",
        "data['ocean_proximity'] = data['ocean_proximity'].apply(to_numbers)\n",
        "data.head(3)"
      ],
      "execution_count": 73,
      "outputs": [
        {
          "output_type": "execute_result",
          "data": {
            "text/html": [
              "<div>\n",
              "<style scoped>\n",
              "    .dataframe tbody tr th:only-of-type {\n",
              "        vertical-align: middle;\n",
              "    }\n",
              "\n",
              "    .dataframe tbody tr th {\n",
              "        vertical-align: top;\n",
              "    }\n",
              "\n",
              "    .dataframe thead th {\n",
              "        text-align: right;\n",
              "    }\n",
              "</style>\n",
              "<table border=\"1\" class=\"dataframe\">\n",
              "  <thead>\n",
              "    <tr style=\"text-align: right;\">\n",
              "      <th></th>\n",
              "      <th>longitude</th>\n",
              "      <th>latitude</th>\n",
              "      <th>housing_median_age</th>\n",
              "      <th>total_rooms</th>\n",
              "      <th>total_bedrooms</th>\n",
              "      <th>population</th>\n",
              "      <th>households</th>\n",
              "      <th>median_income</th>\n",
              "      <th>median_house_value</th>\n",
              "      <th>ocean_proximity</th>\n",
              "    </tr>\n",
              "  </thead>\n",
              "  <tbody>\n",
              "    <tr>\n",
              "      <th>0</th>\n",
              "      <td>-122.23</td>\n",
              "      <td>37.88</td>\n",
              "      <td>41.0</td>\n",
              "      <td>880.0</td>\n",
              "      <td>129.0</td>\n",
              "      <td>322.0</td>\n",
              "      <td>126.0</td>\n",
              "      <td>8.3252</td>\n",
              "      <td>452600.0</td>\n",
              "      <td>3</td>\n",
              "    </tr>\n",
              "    <tr>\n",
              "      <th>1</th>\n",
              "      <td>-122.22</td>\n",
              "      <td>37.86</td>\n",
              "      <td>21.0</td>\n",
              "      <td>7099.0</td>\n",
              "      <td>1106.0</td>\n",
              "      <td>2401.0</td>\n",
              "      <td>1138.0</td>\n",
              "      <td>8.3014</td>\n",
              "      <td>358500.0</td>\n",
              "      <td>3</td>\n",
              "    </tr>\n",
              "    <tr>\n",
              "      <th>2</th>\n",
              "      <td>-122.24</td>\n",
              "      <td>37.85</td>\n",
              "      <td>52.0</td>\n",
              "      <td>1467.0</td>\n",
              "      <td>190.0</td>\n",
              "      <td>496.0</td>\n",
              "      <td>177.0</td>\n",
              "      <td>7.2574</td>\n",
              "      <td>352100.0</td>\n",
              "      <td>3</td>\n",
              "    </tr>\n",
              "  </tbody>\n",
              "</table>\n",
              "</div>"
            ],
            "text/plain": [
              "   longitude  latitude  ...  median_house_value  ocean_proximity\n",
              "0    -122.23     37.88  ...            452600.0                3\n",
              "1    -122.22     37.86  ...            358500.0                3\n",
              "2    -122.24     37.85  ...            352100.0                3\n",
              "\n",
              "[3 rows x 10 columns]"
            ]
          },
          "metadata": {
            "tags": []
          },
          "execution_count": 73
        }
      ]
    },
    {
      "cell_type": "code",
      "metadata": {
        "colab": {
          "base_uri": "https://localhost:8080/"
        },
        "id": "6sWWbyF7QZzX",
        "outputId": "7ff77af6-d2ce-43be-d82b-2a71f6ec455b"
      },
      "source": [
        "X=pd.DataFrame(columns=['longitude','latitude','housing_median_age','total_rooms','total_bedrooms','population','households',\n",
        "                        'median_income','ocean_proximity'],data=data)\n",
        "y=pd.DataFrame(columns=['median_house_value'],data=data)\n",
        "print(X.shape,y.shape)"
      ],
      "execution_count": 74,
      "outputs": [
        {
          "output_type": "stream",
          "text": [
            "(19675, 9) (19675, 1)\n"
          ],
          "name": "stdout"
        }
      ]
    },
    {
      "cell_type": "code",
      "metadata": {
        "colab": {
          "base_uri": "https://localhost:8080/",
          "height": 224
        },
        "id": "MrYT4P7pQZzX",
        "outputId": "9c4a50b0-f71b-4996-d544-ea849611681a"
      },
      "source": [
        "X.head()"
      ],
      "execution_count": null,
      "outputs": [
        {
          "output_type": "execute_result",
          "data": {
            "text/html": [
              "<div>\n",
              "<style scoped>\n",
              "    .dataframe tbody tr th:only-of-type {\n",
              "        vertical-align: middle;\n",
              "    }\n",
              "\n",
              "    .dataframe tbody tr th {\n",
              "        vertical-align: top;\n",
              "    }\n",
              "\n",
              "    .dataframe thead th {\n",
              "        text-align: right;\n",
              "    }\n",
              "</style>\n",
              "<table border=\"1\" class=\"dataframe\">\n",
              "  <thead>\n",
              "    <tr style=\"text-align: right;\">\n",
              "      <th></th>\n",
              "      <th>longitude</th>\n",
              "      <th>latitude</th>\n",
              "      <th>housing_median_age</th>\n",
              "      <th>total_rooms</th>\n",
              "      <th>total_bedrooms</th>\n",
              "      <th>population</th>\n",
              "      <th>households</th>\n",
              "      <th>median_income</th>\n",
              "      <th>ocean_proximity</th>\n",
              "    </tr>\n",
              "  </thead>\n",
              "  <tbody>\n",
              "    <tr>\n",
              "      <th>0</th>\n",
              "      <td>-122.23</td>\n",
              "      <td>37.88</td>\n",
              "      <td>41.0</td>\n",
              "      <td>880.0</td>\n",
              "      <td>129.0</td>\n",
              "      <td>322.0</td>\n",
              "      <td>126.0</td>\n",
              "      <td>8.3252</td>\n",
              "      <td>3</td>\n",
              "    </tr>\n",
              "    <tr>\n",
              "      <th>1</th>\n",
              "      <td>-122.22</td>\n",
              "      <td>37.86</td>\n",
              "      <td>21.0</td>\n",
              "      <td>7099.0</td>\n",
              "      <td>1106.0</td>\n",
              "      <td>2401.0</td>\n",
              "      <td>1138.0</td>\n",
              "      <td>8.3014</td>\n",
              "      <td>3</td>\n",
              "    </tr>\n",
              "    <tr>\n",
              "      <th>2</th>\n",
              "      <td>-122.24</td>\n",
              "      <td>37.85</td>\n",
              "      <td>52.0</td>\n",
              "      <td>1467.0</td>\n",
              "      <td>190.0</td>\n",
              "      <td>496.0</td>\n",
              "      <td>177.0</td>\n",
              "      <td>7.2574</td>\n",
              "      <td>3</td>\n",
              "    </tr>\n",
              "    <tr>\n",
              "      <th>3</th>\n",
              "      <td>-122.25</td>\n",
              "      <td>37.85</td>\n",
              "      <td>52.0</td>\n",
              "      <td>1274.0</td>\n",
              "      <td>235.0</td>\n",
              "      <td>558.0</td>\n",
              "      <td>219.0</td>\n",
              "      <td>5.6431</td>\n",
              "      <td>3</td>\n",
              "    </tr>\n",
              "    <tr>\n",
              "      <th>4</th>\n",
              "      <td>-122.25</td>\n",
              "      <td>37.85</td>\n",
              "      <td>52.0</td>\n",
              "      <td>1627.0</td>\n",
              "      <td>280.0</td>\n",
              "      <td>565.0</td>\n",
              "      <td>259.0</td>\n",
              "      <td>3.8462</td>\n",
              "      <td>3</td>\n",
              "    </tr>\n",
              "  </tbody>\n",
              "</table>\n",
              "</div>"
            ],
            "text/plain": [
              "   longitude  latitude  ...  median_income  ocean_proximity\n",
              "0    -122.23     37.88  ...         8.3252                3\n",
              "1    -122.22     37.86  ...         8.3014                3\n",
              "2    -122.24     37.85  ...         7.2574                3\n",
              "3    -122.25     37.85  ...         5.6431                3\n",
              "4    -122.25     37.85  ...         3.8462                3\n",
              "\n",
              "[5 rows x 9 columns]"
            ]
          },
          "metadata": {
            "tags": []
          },
          "execution_count": 45
        }
      ]
    },
    {
      "cell_type": "code",
      "metadata": {
        "id": "7BIlKSobQZzY"
      },
      "source": [
        ""
      ],
      "execution_count": null,
      "outputs": []
    },
    {
      "cell_type": "code",
      "metadata": {
        "colab": {
          "base_uri": "https://localhost:8080/"
        },
        "id": "FwcVqwVZQZzY",
        "outputId": "4f2db074-7586-4cf8-c4e9-c080f9439a2f"
      },
      "source": [
        "X.isna().sum()"
      ],
      "execution_count": 75,
      "outputs": [
        {
          "output_type": "execute_result",
          "data": {
            "text/plain": [
              "longitude             0\n",
              "latitude              0\n",
              "housing_median_age    0\n",
              "total_rooms           0\n",
              "total_bedrooms        0\n",
              "population            0\n",
              "households            0\n",
              "median_income         0\n",
              "ocean_proximity       0\n",
              "dtype: int64"
            ]
          },
          "metadata": {
            "tags": []
          },
          "execution_count": 75
        }
      ]
    },
    {
      "cell_type": "code",
      "metadata": {
        "colab": {
          "base_uri": "https://localhost:8080/"
        },
        "id": "et6wO5EbQZzY",
        "outputId": "e8559eff-7c69-46a5-f552-9010dea941cd"
      },
      "source": [
        "#test train split\n",
        "from sklearn.model_selection import train_test_split\n",
        "X_train_full,X_test,y_train_full,y_test = train_test_split(X,y,random_state=0)\n",
        "X_train, X_valid, y_train, y_valid = train_test_split(X_train_full, y_train_full, random_state=0)\n",
        "print(X_train_full.shape,'  ',X_test.shape)\n",
        "print(y_train_full.shape,'  ',y_test.shape)\n",
        "print(X_train.shape,'  ',X_valid.shape)\n",
        "print(y_train.shape,'  ',y_valid.shape)"
      ],
      "execution_count": 76,
      "outputs": [
        {
          "output_type": "stream",
          "text": [
            "(14756, 9)    (4919, 9)\n",
            "(14756, 1)    (4919, 1)\n",
            "(11067, 9)    (3689, 9)\n",
            "(11067, 1)    (3689, 1)\n"
          ],
          "name": "stdout"
        }
      ]
    },
    {
      "cell_type": "code",
      "metadata": {
        "colab": {
          "base_uri": "https://localhost:8080/"
        },
        "id": "8TH8hXOWQZzY",
        "outputId": "05405740-4a3d-4357-9a38-155edb88f5da"
      },
      "source": [
        "y.to_numpy()"
      ],
      "execution_count": 77,
      "outputs": [
        {
          "output_type": "execute_result",
          "data": {
            "text/plain": [
              "array([[452600.],\n",
              "       [358500.],\n",
              "       [352100.],\n",
              "       ...,\n",
              "       [ 92300.],\n",
              "       [ 84700.],\n",
              "       [ 89400.]])"
            ]
          },
          "metadata": {
            "tags": []
          },
          "execution_count": 77
        }
      ]
    },
    {
      "cell_type": "code",
      "metadata": {
        "id": "MlVssyhlQZzY"
      },
      "source": [
        ""
      ],
      "execution_count": 77,
      "outputs": []
    },
    {
      "cell_type": "code",
      "metadata": {
        "id": "3GblNMGSQZzY"
      },
      "source": [
        "# Feature Scaling\n",
        "from sklearn.preprocessing import StandardScaler\n",
        "scaler = StandardScaler()\n",
        "X_train = scaler.fit_transform(X_train)\n",
        "X_valid = scaler.transform(X_valid)\n",
        "X_test = scaler.transform(X_test)\n"
      ],
      "execution_count": 78,
      "outputs": []
    },
    {
      "cell_type": "code",
      "metadata": {
        "colab": {
          "base_uri": "https://localhost:8080/"
        },
        "id": "Jtw6ur9-QZzY",
        "outputId": "2996bf18-2373-4adf-fd53-4d2d5c2c1a73"
      },
      "source": [
        "X_train"
      ],
      "execution_count": 79,
      "outputs": [
        {
          "output_type": "execute_result",
          "data": {
            "text/plain": [
              "array([[ 0.18091688, -0.67427494,  0.52934193, ...,  0.11851522,\n",
              "        -0.29445857,  1.11511005],\n",
              "       [ 0.71456479, -0.75817027,  0.37029576, ..., -0.08952938,\n",
              "        -1.08061438, -0.91015013],\n",
              "       [-1.45992578,  0.98964914,  1.56314203, ...,  0.2738903 ,\n",
              "         0.18608674,  2.12774014],\n",
              "       ...,\n",
              "       [ 0.71456479, -0.71622261,  1.64266512, ..., -0.22120318,\n",
              "         0.23690507, -0.91015013],\n",
              "       [-1.44496369,  0.98032743,  1.40409586, ...,  1.60906262,\n",
              "         0.89480509,  2.12774014],\n",
              "       [ 0.60484279, -0.7069009 ,  1.00648044, ...,  0.36869544,\n",
              "         0.35529014, -0.91015013]])"
            ]
          },
          "metadata": {
            "tags": []
          },
          "execution_count": 79
        }
      ]
    },
    {
      "cell_type": "code",
      "metadata": {
        "colab": {
          "base_uri": "https://localhost:8080/"
        },
        "id": "MODYh8LjQZzY",
        "outputId": "f7f764d4-5916-4954-8e62-bca220c85c7b"
      },
      "source": [
        "X_train.shape[1:]"
      ],
      "execution_count": 80,
      "outputs": [
        {
          "output_type": "execute_result",
          "data": {
            "text/plain": [
              "(9,)"
            ]
          },
          "metadata": {
            "tags": []
          },
          "execution_count": 80
        }
      ]
    },
    {
      "cell_type": "code",
      "metadata": {
        "id": "3EzPxTf_QZzY"
      },
      "source": [
        "def build_model(hp):\n",
        "    model = keras.Sequential()\n",
        "    for i in range(hp.Int('num_layers', 2, 20)):\n",
        "        model.add(layers.Dense(units=hp.Int('units_' + str(i),\n",
        "                                            min_value=32,\n",
        "                                            max_value=512,\n",
        "                                            step=32),\n",
        "                               activation='relu'))\n",
        "    model.add(layers.Dense(1, activation='linear'))\n",
        "    model.compile(\n",
        "        optimizer=keras.optimizers.Adam(\n",
        "            hp.Choice('learning_rate', [1e-2, 1e-3, 1e-4])),\n",
        "        loss='mean_absolute_error',\n",
        "          metrics=['mean_absolute_error'])\n",
        "    return model"
      ],
      "execution_count": 91,
      "outputs": []
    },
    {
      "cell_type": "code",
      "metadata": {
        "id": "2pyme6jyQZzY"
      },
      "source": [
        "from tensorflow import keras\n",
        "from tensorflow.keras import layers\n",
        "from kerastuner.tuners import RandomSearch\n",
        "tuner = RandomSearch(\n",
        "    build_model,\n",
        "    objective='val_mean_absolute_error',\n",
        "    max_trials=5,\n",
        "    executions_per_trial=3,\n",
        "    directory='project',\n",
        "    project_name='Reg_ANN')"
      ],
      "execution_count": 92,
      "outputs": []
    },
    {
      "cell_type": "code",
      "metadata": {
        "colab": {
          "base_uri": "https://localhost:8080/"
        },
        "id": "h4XpaBr7QZzY",
        "outputId": "e3201b8e-31da-49e1-ac73-b120b3d7d924"
      },
      "source": [
        "tuner.search_space_summary()"
      ],
      "execution_count": 93,
      "outputs": [
        {
          "output_type": "stream",
          "text": [
            "Search space summary\n",
            "Default search space size: 4\n",
            "num_layers (Int)\n",
            "{'default': None, 'conditions': [], 'min_value': 2, 'max_value': 20, 'step': 1, 'sampling': None}\n",
            "units_0 (Int)\n",
            "{'default': None, 'conditions': [], 'min_value': 32, 'max_value': 512, 'step': 32, 'sampling': None}\n",
            "units_1 (Int)\n",
            "{'default': None, 'conditions': [], 'min_value': 32, 'max_value': 512, 'step': 32, 'sampling': None}\n",
            "learning_rate (Choice)\n",
            "{'default': 0.01, 'conditions': [], 'values': [0.01, 0.001, 0.0001], 'ordered': True}\n"
          ],
          "name": "stdout"
        }
      ]
    },
    {
      "cell_type": "code",
      "metadata": {
        "colab": {
          "base_uri": "https://localhost:8080/"
        },
        "id": "STtQpxUIQZzY",
        "outputId": "e241f4df-4b46-438a-93b8-7f16ffb33cd8"
      },
      "source": [
        "tuner.search(X_train, y_train,\n",
        "             epochs=5,\n",
        "             validation_data=(X_test, y_test))"
      ],
      "execution_count": 94,
      "outputs": [
        {
          "output_type": "stream",
          "text": [
            "Trial 5 Complete [00h 02m 01s]\n",
            "val_mean_absolute_error: 38438.01171875\n",
            "\n",
            "Best val_mean_absolute_error So Far: 37903.895833333336\n",
            "Total elapsed time: 00h 05m 09s\n",
            "INFO:tensorflow:Oracle triggered exit\n"
          ],
          "name": "stdout"
        }
      ]
    },
    {
      "cell_type": "code",
      "metadata": {
        "id": "856xCbVIQZzY",
        "colab": {
          "base_uri": "https://localhost:8080/"
        },
        "outputId": "56f6f9dd-e080-46b1-d8cd-4a0df221b0ae"
      },
      "source": [
        "tuner.get_best_hyperparameters"
      ],
      "execution_count": 95,
      "outputs": [
        {
          "output_type": "execute_result",
          "data": {
            "text/plain": [
              "<bound method BaseTuner.get_best_hyperparameters of <kerastuner.tuners.randomsearch.RandomSearch object at 0x7f58d25819e8>>"
            ]
          },
          "metadata": {
            "tags": []
          },
          "execution_count": 95
        }
      ]
    },
    {
      "cell_type": "code",
      "metadata": {
        "colab": {
          "base_uri": "https://localhost:8080/"
        },
        "id": "Q82VSzb5Yhmd",
        "outputId": "43f43ed4-b6ad-48ae-d1d7-c5350b8b1d10"
      },
      "source": [
        "tuner.results_summary()"
      ],
      "execution_count": 97,
      "outputs": [
        {
          "output_type": "stream",
          "text": [
            "Results summary\n",
            "Results in project/Reg_ANN\n",
            "Showing 10 best trials\n",
            "Objective(name='val_mean_absolute_error', direction='min')\n",
            "Trial summary\n",
            "Hyperparameters:\n",
            "num_layers: 15\n",
            "units_0: 384\n",
            "units_1: 448\n",
            "learning_rate: 0.001\n",
            "units_2: 224\n",
            "units_3: 160\n",
            "units_4: 96\n",
            "units_5: 352\n",
            "units_6: 320\n",
            "units_7: 128\n",
            "units_8: 128\n",
            "units_9: 288\n",
            "units_10: 480\n",
            "units_11: 288\n",
            "units_12: 384\n",
            "units_13: 32\n",
            "units_14: 32\n",
            "Score: 37903.895833333336\n",
            "Trial summary\n",
            "Hyperparameters:\n",
            "num_layers: 11\n",
            "units_0: 64\n",
            "units_1: 448\n",
            "learning_rate: 0.01\n",
            "units_2: 224\n",
            "units_3: 160\n",
            "units_4: 32\n",
            "units_5: 256\n",
            "units_6: 192\n",
            "units_7: 224\n",
            "units_8: 160\n",
            "units_9: 64\n",
            "units_10: 256\n",
            "units_11: 224\n",
            "units_12: 416\n",
            "Score: 38410.158854166664\n",
            "Trial summary\n",
            "Hyperparameters:\n",
            "num_layers: 16\n",
            "units_0: 512\n",
            "units_1: 192\n",
            "learning_rate: 0.0001\n",
            "units_2: 352\n",
            "units_3: 448\n",
            "units_4: 512\n",
            "units_5: 128\n",
            "units_6: 128\n",
            "units_7: 416\n",
            "units_8: 480\n",
            "units_9: 256\n",
            "units_10: 480\n",
            "units_11: 256\n",
            "units_12: 352\n",
            "units_13: 384\n",
            "units_14: 448\n",
            "units_15: 32\n",
            "Score: 38438.01171875\n",
            "Trial summary\n",
            "Hyperparameters:\n",
            "num_layers: 13\n",
            "units_0: 64\n",
            "units_1: 416\n",
            "learning_rate: 0.0001\n",
            "units_2: 64\n",
            "units_3: 160\n",
            "units_4: 320\n",
            "units_5: 320\n",
            "units_6: 384\n",
            "units_7: 128\n",
            "units_8: 192\n",
            "units_9: 160\n",
            "units_10: 96\n",
            "units_11: 64\n",
            "units_12: 32\n",
            "Score: 42013.861979166664\n",
            "Trial summary\n",
            "Hyperparameters:\n",
            "num_layers: 12\n",
            "units_0: 288\n",
            "units_1: 416\n",
            "learning_rate: 0.0001\n",
            "units_2: 32\n",
            "units_3: 32\n",
            "units_4: 32\n",
            "units_5: 32\n",
            "units_6: 32\n",
            "units_7: 32\n",
            "units_8: 32\n",
            "units_9: 32\n",
            "units_10: 32\n",
            "units_11: 32\n",
            "Score: 50399.7890625\n"
          ],
          "name": "stdout"
        }
      ]
    },
    {
      "cell_type": "code",
      "metadata": {
        "id": "cQWpR5AZQZzY",
        "colab": {
          "base_uri": "https://localhost:8080/"
        },
        "outputId": "bfda7348-5a73-41fb-f934-f189f78969e1"
      },
      "source": [
        "\n",
        "tuner.get_best_models()"
      ],
      "execution_count": 96,
      "outputs": [
        {
          "output_type": "execute_result",
          "data": {
            "text/plain": [
              "[<tensorflow.python.keras.engine.sequential.Sequential at 0x7f58d24f51d0>]"
            ]
          },
          "metadata": {
            "tags": []
          },
          "execution_count": 96
        }
      ]
    },
    {
      "cell_type": "code",
      "metadata": {
        "id": "q1bAjmQiQZzY"
      },
      "source": [
        ""
      ],
      "execution_count": null,
      "outputs": []
    },
    {
      "cell_type": "code",
      "metadata": {
        "id": "EjuOsYXFQZzY"
      },
      "source": [
        ""
      ],
      "execution_count": null,
      "outputs": []
    },
    {
      "cell_type": "code",
      "metadata": {
        "id": "0GTfTsjPQZzY"
      },
      "source": [
        ""
      ],
      "execution_count": null,
      "outputs": []
    },
    {
      "cell_type": "code",
      "metadata": {
        "id": "r9tLwM6CQZzY"
      },
      "source": [
        ""
      ],
      "execution_count": null,
      "outputs": []
    },
    {
      "cell_type": "code",
      "metadata": {
        "id": "PsrU2CMQQZzY"
      },
      "source": [
        ""
      ],
      "execution_count": null,
      "outputs": []
    },
    {
      "cell_type": "code",
      "metadata": {
        "id": "TTeXodWUQZzY"
      },
      "source": [
        ""
      ],
      "execution_count": null,
      "outputs": []
    }
  ]
}