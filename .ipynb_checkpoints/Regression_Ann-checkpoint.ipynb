{
 "cells": [
  {
   "cell_type": "code",
   "execution_count": 315,
   "metadata": {},
   "outputs": [],
   "source": [
    "import pandas as pd\n",
    "import numpy as np"
   ]
  },
  {
   "cell_type": "code",
   "execution_count": 316,
   "metadata": {},
   "outputs": [
    {
     "data": {
      "text/html": [
       "<div>\n",
       "<style scoped>\n",
       "    .dataframe tbody tr th:only-of-type {\n",
       "        vertical-align: middle;\n",
       "    }\n",
       "\n",
       "    .dataframe tbody tr th {\n",
       "        vertical-align: top;\n",
       "    }\n",
       "\n",
       "    .dataframe thead th {\n",
       "        text-align: right;\n",
       "    }\n",
       "</style>\n",
       "<table border=\"1\" class=\"dataframe\">\n",
       "  <thead>\n",
       "    <tr style=\"text-align: right;\">\n",
       "      <th></th>\n",
       "      <th>longitude</th>\n",
       "      <th>latitude</th>\n",
       "      <th>housing_median_age</th>\n",
       "      <th>total_rooms</th>\n",
       "      <th>total_bedrooms</th>\n",
       "      <th>population</th>\n",
       "      <th>households</th>\n",
       "      <th>median_income</th>\n",
       "      <th>median_house_value</th>\n",
       "      <th>ocean_proximity</th>\n",
       "    </tr>\n",
       "  </thead>\n",
       "  <tbody>\n",
       "    <tr>\n",
       "      <th>0</th>\n",
       "      <td>-122.23</td>\n",
       "      <td>37.88</td>\n",
       "      <td>41.0</td>\n",
       "      <td>880.0</td>\n",
       "      <td>129.0</td>\n",
       "      <td>322.0</td>\n",
       "      <td>126.0</td>\n",
       "      <td>8.3252</td>\n",
       "      <td>452600.0</td>\n",
       "      <td>NEAR BAY</td>\n",
       "    </tr>\n",
       "    <tr>\n",
       "      <th>1</th>\n",
       "      <td>-122.22</td>\n",
       "      <td>37.86</td>\n",
       "      <td>21.0</td>\n",
       "      <td>7099.0</td>\n",
       "      <td>1106.0</td>\n",
       "      <td>2401.0</td>\n",
       "      <td>1138.0</td>\n",
       "      <td>8.3014</td>\n",
       "      <td>358500.0</td>\n",
       "      <td>NEAR BAY</td>\n",
       "    </tr>\n",
       "    <tr>\n",
       "      <th>2</th>\n",
       "      <td>-122.24</td>\n",
       "      <td>37.85</td>\n",
       "      <td>52.0</td>\n",
       "      <td>1467.0</td>\n",
       "      <td>190.0</td>\n",
       "      <td>496.0</td>\n",
       "      <td>177.0</td>\n",
       "      <td>7.2574</td>\n",
       "      <td>352100.0</td>\n",
       "      <td>NEAR BAY</td>\n",
       "    </tr>\n",
       "    <tr>\n",
       "      <th>3</th>\n",
       "      <td>-122.25</td>\n",
       "      <td>37.85</td>\n",
       "      <td>52.0</td>\n",
       "      <td>1274.0</td>\n",
       "      <td>235.0</td>\n",
       "      <td>558.0</td>\n",
       "      <td>219.0</td>\n",
       "      <td>5.6431</td>\n",
       "      <td>341300.0</td>\n",
       "      <td>NEAR BAY</td>\n",
       "    </tr>\n",
       "    <tr>\n",
       "      <th>4</th>\n",
       "      <td>-122.25</td>\n",
       "      <td>37.85</td>\n",
       "      <td>52.0</td>\n",
       "      <td>1627.0</td>\n",
       "      <td>280.0</td>\n",
       "      <td>565.0</td>\n",
       "      <td>259.0</td>\n",
       "      <td>3.8462</td>\n",
       "      <td>342200.0</td>\n",
       "      <td>NEAR BAY</td>\n",
       "    </tr>\n",
       "  </tbody>\n",
       "</table>\n",
       "</div>"
      ],
      "text/plain": [
       "   longitude  latitude  housing_median_age  total_rooms  total_bedrooms  \\\n",
       "0    -122.23     37.88                41.0        880.0           129.0   \n",
       "1    -122.22     37.86                21.0       7099.0          1106.0   \n",
       "2    -122.24     37.85                52.0       1467.0           190.0   \n",
       "3    -122.25     37.85                52.0       1274.0           235.0   \n",
       "4    -122.25     37.85                52.0       1627.0           280.0   \n",
       "\n",
       "   population  households  median_income  median_house_value ocean_proximity  \n",
       "0       322.0       126.0         8.3252            452600.0        NEAR BAY  \n",
       "1      2401.0      1138.0         8.3014            358500.0        NEAR BAY  \n",
       "2       496.0       177.0         7.2574            352100.0        NEAR BAY  \n",
       "3       558.0       219.0         5.6431            341300.0        NEAR BAY  \n",
       "4       565.0       259.0         3.8462            342200.0        NEAR BAY  "
      ]
     },
     "execution_count": 316,
     "metadata": {},
     "output_type": "execute_result"
    }
   ],
   "source": [
    "data = pd.read_csv('housing.csv')\n",
    "data.head()"
   ]
  },
  {
   "cell_type": "code",
   "execution_count": 317,
   "metadata": {},
   "outputs": [
    {
     "data": {
      "text/plain": [
       "longitude             float64\n",
       "latitude              float64\n",
       "housing_median_age    float64\n",
       "total_rooms           float64\n",
       "total_bedrooms        float64\n",
       "population            float64\n",
       "households            float64\n",
       "median_income         float64\n",
       "median_house_value    float64\n",
       "ocean_proximity        object\n",
       "dtype: object"
      ]
     },
     "execution_count": 317,
     "metadata": {},
     "output_type": "execute_result"
    }
   ],
   "source": [
    "data.dtypes"
   ]
  },
  {
   "cell_type": "code",
   "execution_count": 318,
   "metadata": {},
   "outputs": [],
   "source": [
    "# dummy values for ocean_proximity\n",
    "# data = pd.get_dummies(data,drop_first=True)\n",
    "# data.isna().sum()"
   ]
  },
  {
   "cell_type": "code",
   "execution_count": 319,
   "metadata": {},
   "outputs": [
    {
     "name": "stdout",
     "output_type": "stream",
     "text": [
      "<class 'pandas.core.frame.DataFrame'>\n",
      "RangeIndex: 20640 entries, 0 to 20639\n",
      "Data columns (total 10 columns):\n",
      "longitude             20640 non-null float64\n",
      "latitude              20640 non-null float64\n",
      "housing_median_age    20640 non-null float64\n",
      "total_rooms           20640 non-null float64\n",
      "total_bedrooms        20433 non-null float64\n",
      "population            20640 non-null float64\n",
      "households            20640 non-null float64\n",
      "median_income         20640 non-null float64\n",
      "median_house_value    20640 non-null float64\n",
      "ocean_proximity       20640 non-null object\n",
      "dtypes: float64(9), object(1)\n",
      "memory usage: 1.6+ MB\n"
     ]
    }
   ],
   "source": [
    "data.info()"
   ]
  },
  {
   "cell_type": "code",
   "execution_count": 320,
   "metadata": {},
   "outputs": [
    {
     "data": {
      "text/plain": [
       "True"
      ]
     },
     "execution_count": 320,
     "metadata": {},
     "output_type": "execute_result"
    }
   ],
   "source": [
    "data['total_bedrooms'].isnull().any()"
   ]
  },
  {
   "cell_type": "code",
   "execution_count": 321,
   "metadata": {},
   "outputs": [
    {
     "data": {
      "text/plain": [
       "False"
      ]
     },
     "execution_count": 321,
     "metadata": {},
     "output_type": "execute_result"
    }
   ],
   "source": [
    "# Removing null values in 'total_bedrooms' with median value\n",
    "median_bedrooms = data['total_bedrooms'].median()\n",
    "data['total_bedrooms'].fillna(median_bedrooms,inplace=True)\n",
    "data['total_bedrooms'].isnull().any()"
   ]
  },
  {
   "cell_type": "code",
   "execution_count": 322,
   "metadata": {},
   "outputs": [
    {
     "name": "stderr",
     "output_type": "stream",
     "text": [
      "C:\\Users\\aravi\\Anaconda3\\lib\\site-packages\\pandas\\plotting\\_tools.py:307: MatplotlibDeprecationWarning: \n",
      "The rowNum attribute was deprecated in Matplotlib 3.2 and will be removed two minor releases later. Use ax.get_subplotspec().rowspan.start instead.\n",
      "  layout[ax.rowNum, ax.colNum] = ax.get_visible()\n",
      "C:\\Users\\aravi\\Anaconda3\\lib\\site-packages\\pandas\\plotting\\_tools.py:307: MatplotlibDeprecationWarning: \n",
      "The colNum attribute was deprecated in Matplotlib 3.2 and will be removed two minor releases later. Use ax.get_subplotspec().colspan.start instead.\n",
      "  layout[ax.rowNum, ax.colNum] = ax.get_visible()\n",
      "C:\\Users\\aravi\\Anaconda3\\lib\\site-packages\\pandas\\plotting\\_tools.py:313: MatplotlibDeprecationWarning: \n",
      "The rowNum attribute was deprecated in Matplotlib 3.2 and will be removed two minor releases later. Use ax.get_subplotspec().rowspan.start instead.\n",
      "  if not layout[ax.rowNum + 1, ax.colNum]:\n",
      "C:\\Users\\aravi\\Anaconda3\\lib\\site-packages\\pandas\\plotting\\_tools.py:313: MatplotlibDeprecationWarning: \n",
      "The colNum attribute was deprecated in Matplotlib 3.2 and will be removed two minor releases later. Use ax.get_subplotspec().colspan.start instead.\n",
      "  if not layout[ax.rowNum + 1, ax.colNum]:\n"
     ]
    },
    {
     "data": {
      "image/png": "[encoded data removed]",
      "text/plain": [
       "<Figure size 1440x1080 with 9 Axes>"
      ]
     },
     "metadata": {
      "needs_background": "light"
     },
     "output_type": "display_data"
    }
   ],
   "source": [
    "%matplotlib inline\n",
    "import matplotlib.pyplot as plt\n",
    "data.hist(bins=50, figsize=(20,15))\n",
    "plt.show()"
   ]
  },
  {
   "cell_type": "code",
   "execution_count": null,
   "metadata": {},
   "outputs": [],
   "source": []
  },
  {
   "cell_type": "code",
   "execution_count": 323,
   "metadata": {},
   "outputs": [
    {
     "data": {
      "text/plain": [
       "<matplotlib.axes._subplots.AxesSubplot at 0x1efe8afb0f0>"
      ]
     },
     "execution_count": 323,
     "metadata": {},
     "output_type": "execute_result"
    },
    {
     "data": {
      "image/png": "[encoded data removed]",
      "text/plain": [
       "<Figure size 720x504 with 1 Axes>"
      ]
     },
     "metadata": {
      "needs_background": "light"
     },
     "output_type": "display_data"
    }
   ],
   "source": [
    "# Outliers\n",
    "import seaborn as sns\n",
    "columns = ['households','population','total_bedrooms','total_rooms']\n",
    "plt.figure(figsize=(10,7))\n",
    "sns.boxplot(data=data[columns])\n"
   ]
  },
  {
   "cell_type": "code",
   "execution_count": 324,
   "metadata": {},
   "outputs": [
    {
     "data": {
      "text/plain": [
       "households            1220\n",
       "housing_median_age       0\n",
       "latitude                 0\n",
       "longitude                0\n",
       "median_house_value    1071\n",
       "median_income          681\n",
       "ocean_proximity          0\n",
       "population            1196\n",
       "total_bedrooms        1306\n",
       "total_rooms           1287\n",
       "dtype: int64"
      ]
     },
     "execution_count": 324,
     "metadata": {},
     "output_type": "execute_result"
    }
   ],
   "source": [
    "# calculating number of outliers in data. (ignore that of ocean_proximity)\n",
    "Q1 = data.quantile(0.25)\n",
    "Q3 = data.quantile(0.75)\n",
    "IQR = Q3-Q1\n",
    "High = (Q3) + 1.5*IQR\n",
    "Low = (Q1) - 1.5*IQR\n",
    "\n",
    "((data < Low) | (data > High)).sum()"
   ]
  },
  {
   "cell_type": "code",
   "execution_count": 325,
   "metadata": {},
   "outputs": [
    {
     "data": {
      "text/html": [
       "<style  type=\"text/css\" >\n",
       "    #T_8364c1de_2d5c_11eb_bb24_8c1645ce8a57row0_col0 {\n",
       "            background-color:  #023858;\n",
       "            color:  #f1f1f1;\n",
       "        }    #T_8364c1de_2d5c_11eb_bb24_8c1645ce8a57row0_col1 {\n",
       "            background-color:  #fff7fb;\n",
       "            color:  #000000;\n",
       "        }    #T_8364c1de_2d5c_11eb_bb24_8c1645ce8a57row0_col2 {\n",
       "            background-color:  #dfddec;\n",
       "            color:  #000000;\n",
       "        }    #T_8364c1de_2d5c_11eb_bb24_8c1645ce8a57row0_col3 {\n",
       "            background-color:  #c0c9e2;\n",
       "            color:  #000000;\n",
       "        }    #T_8364c1de_2d5c_11eb_bb24_8c1645ce8a57row0_col4 {\n",
       "            background-color:  #c1cae2;\n",
       "            color:  #000000;\n",
       "        }    #T_8364c1de_2d5c_11eb_bb24_8c1645ce8a57row0_col5 {\n",
       "            background-color:  #bdc8e1;\n",
       "            color:  #000000;\n",
       "        }    #T_8364c1de_2d5c_11eb_bb24_8c1645ce8a57row0_col6 {\n",
       "            background-color:  #c8cde4;\n",
       "            color:  #000000;\n",
       "        }    #T_8364c1de_2d5c_11eb_bb24_8c1645ce8a57row0_col7 {\n",
       "            background-color:  #f1ebf5;\n",
       "            color:  #000000;\n",
       "        }    #T_8364c1de_2d5c_11eb_bb24_8c1645ce8a57row0_col8 {\n",
       "            background-color:  #f2ecf5;\n",
       "            color:  #000000;\n",
       "        }    #T_8364c1de_2d5c_11eb_bb24_8c1645ce8a57row1_col0 {\n",
       "            background-color:  #fff7fb;\n",
       "            color:  #000000;\n",
       "        }    #T_8364c1de_2d5c_11eb_bb24_8c1645ce8a57row1_col1 {\n",
       "            background-color:  #023858;\n",
       "            color:  #f1f1f1;\n",
       "        }    #T_8364c1de_2d5c_11eb_bb24_8c1645ce8a57row1_col2 {\n",
       "            background-color:  #c8cde4;\n",
       "            color:  #000000;\n",
       "        }    #T_8364c1de_2d5c_11eb_bb24_8c1645ce8a57row1_col3 {\n",
       "            background-color:  #d2d3e7;\n",
       "            color:  #000000;\n",
       "        }    #T_8364c1de_2d5c_11eb_bb24_8c1645ce8a57row1_col4 {\n",
       "            background-color:  #dddbec;\n",
       "            color:  #000000;\n",
       "        }    #T_8364c1de_2d5c_11eb_bb24_8c1645ce8a57row1_col5 {\n",
       "            background-color:  #e7e3f0;\n",
       "            color:  #000000;\n",
       "        }    #T_8364c1de_2d5c_11eb_bb24_8c1645ce8a57row1_col6 {\n",
       "            background-color:  #e0deed;\n",
       "            color:  #000000;\n",
       "        }    #T_8364c1de_2d5c_11eb_bb24_8c1645ce8a57row1_col7 {\n",
       "            background-color:  #faf3f9;\n",
       "            color:  #000000;\n",
       "        }    #T_8364c1de_2d5c_11eb_bb24_8c1645ce8a57row1_col8 {\n",
       "            background-color:  #fff7fb;\n",
       "            color:  #000000;\n",
       "        }    #T_8364c1de_2d5c_11eb_bb24_8c1645ce8a57row2_col0 {\n",
       "            background-color:  #93b5d6;\n",
       "            color:  #000000;\n",
       "        }    #T_8364c1de_2d5c_11eb_bb24_8c1645ce8a57row2_col1 {\n",
       "            background-color:  #79abd0;\n",
       "            color:  #000000;\n",
       "        }    #T_8364c1de_2d5c_11eb_bb24_8c1645ce8a57row2_col2 {\n",
       "            background-color:  #023858;\n",
       "            color:  #f1f1f1;\n",
       "        }    #T_8364c1de_2d5c_11eb_bb24_8c1645ce8a57row2_col3 {\n",
       "            background-color:  #fff7fb;\n",
       "            color:  #000000;\n",
       "        }    #T_8364c1de_2d5c_11eb_bb24_8c1645ce8a57row2_col4 {\n",
       "            background-color:  #fff7fb;\n",
       "            color:  #000000;\n",
       "        }    #T_8364c1de_2d5c_11eb_bb24_8c1645ce8a57row2_col5 {\n",
       "            background-color:  #fff7fb;\n",
       "            color:  #000000;\n",
       "        }    #T_8364c1de_2d5c_11eb_bb24_8c1645ce8a57row2_col6 {\n",
       "            background-color:  #fff7fb;\n",
       "            color:  #000000;\n",
       "        }    #T_8364c1de_2d5c_11eb_bb24_8c1645ce8a57row2_col7 {\n",
       "            background-color:  #fff7fb;\n",
       "            color:  #000000;\n",
       "        }    #T_8364c1de_2d5c_11eb_bb24_8c1645ce8a57row2_col8 {\n",
       "            background-color:  #d8d7e9;\n",
       "            color:  #000000;\n",
       "        }    #T_8364c1de_2d5c_11eb_bb24_8c1645ce8a57row3_col0 {\n",
       "            background-color:  #73a9cf;\n",
       "            color:  #000000;\n",
       "        }    #T_8364c1de_2d5c_11eb_bb24_8c1645ce8a57row3_col1 {\n",
       "            background-color:  #83afd3;\n",
       "            color:  #000000;\n",
       "        }    #T_8364c1de_2d5c_11eb_bb24_8c1645ce8a57row3_col2 {\n",
       "            background-color:  #fff7fb;\n",
       "            color:  #000000;\n",
       "        }    #T_8364c1de_2d5c_11eb_bb24_8c1645ce8a57row3_col3 {\n",
       "            background-color:  #023858;\n",
       "            color:  #f1f1f1;\n",
       "        }    #T_8364c1de_2d5c_11eb_bb24_8c1645ce8a57row3_col4 {\n",
       "            background-color:  #03476f;\n",
       "            color:  #f1f1f1;\n",
       "        }    #T_8364c1de_2d5c_11eb_bb24_8c1645ce8a57row3_col5 {\n",
       "            background-color:  #045687;\n",
       "            color:  #f1f1f1;\n",
       "        }    #T_8364c1de_2d5c_11eb_bb24_8c1645ce8a57row3_col6 {\n",
       "            background-color:  #034973;\n",
       "            color:  #f1f1f1;\n",
       "        }    #T_8364c1de_2d5c_11eb_bb24_8c1645ce8a57row3_col7 {\n",
       "            background-color:  #c5cce3;\n",
       "            color:  #000000;\n",
       "        }    #T_8364c1de_2d5c_11eb_bb24_8c1645ce8a57row3_col8 {\n",
       "            background-color:  #d2d2e7;\n",
       "            color:  #000000;\n",
       "        }    #T_8364c1de_2d5c_11eb_bb24_8c1645ce8a57row4_col0 {\n",
       "            background-color:  #6ba5cd;\n",
       "            color:  #000000;\n",
       "        }    #T_8364c1de_2d5c_11eb_bb24_8c1645ce8a57row4_col1 {\n",
       "            background-color:  #89b1d4;\n",
       "            color:  #000000;\n",
       "        }    #T_8364c1de_2d5c_11eb_bb24_8c1645ce8a57row4_col2 {\n",
       "            background-color:  #fbf3f9;\n",
       "            color:  #000000;\n",
       "        }    #T_8364c1de_2d5c_11eb_bb24_8c1645ce8a57row4_col3 {\n",
       "            background-color:  #03466e;\n",
       "            color:  #f1f1f1;\n",
       "        }    #T_8364c1de_2d5c_11eb_bb24_8c1645ce8a57row4_col4 {\n",
       "            background-color:  #023858;\n",
       "            color:  #f1f1f1;\n",
       "        }    #T_8364c1de_2d5c_11eb_bb24_8c1645ce8a57row4_col5 {\n",
       "            background-color:  #045280;\n",
       "            color:  #f1f1f1;\n",
       "        }    #T_8364c1de_2d5c_11eb_bb24_8c1645ce8a57row4_col6 {\n",
       "            background-color:  #023d60;\n",
       "            color:  #f1f1f1;\n",
       "        }    #T_8364c1de_2d5c_11eb_bb24_8c1645ce8a57row4_col7 {\n",
       "            background-color:  #f0eaf4;\n",
       "            color:  #000000;\n",
       "        }    #T_8364c1de_2d5c_11eb_bb24_8c1645ce8a57row4_col8 {\n",
       "            background-color:  #e2dfee;\n",
       "            color:  #000000;\n",
       "        }    #T_8364c1de_2d5c_11eb_bb24_8c1645ce8a57row5_col0 {\n",
       "            background-color:  #63a2cb;\n",
       "            color:  #000000;\n",
       "        }    #T_8364c1de_2d5c_11eb_bb24_8c1645ce8a57row5_col1 {\n",
       "            background-color:  #93b5d6;\n",
       "            color:  #000000;\n",
       "        }    #T_8364c1de_2d5c_11eb_bb24_8c1645ce8a57row5_col2 {\n",
       "            background-color:  #f8f1f8;\n",
       "            color:  #000000;\n",
       "        }    #T_8364c1de_2d5c_11eb_bb24_8c1645ce8a57row5_col3 {\n",
       "            background-color:  #045483;\n",
       "            color:  #f1f1f1;\n",
       "        }    #T_8364c1de_2d5c_11eb_bb24_8c1645ce8a57row5_col4 {\n",
       "            background-color:  #045280;\n",
       "            color:  #f1f1f1;\n",
       "        }    #T_8364c1de_2d5c_11eb_bb24_8c1645ce8a57row5_col5 {\n",
       "            background-color:  #023858;\n",
       "            color:  #f1f1f1;\n",
       "        }    #T_8364c1de_2d5c_11eb_bb24_8c1645ce8a57row5_col6 {\n",
       "            background-color:  #034b76;\n",
       "            color:  #f1f1f1;\n",
       "        }    #T_8364c1de_2d5c_11eb_bb24_8c1645ce8a57row5_col7 {\n",
       "            background-color:  #eee9f3;\n",
       "            color:  #000000;\n",
       "        }    #T_8364c1de_2d5c_11eb_bb24_8c1645ce8a57row5_col8 {\n",
       "            background-color:  #f0eaf4;\n",
       "            color:  #000000;\n",
       "        }    #T_8364c1de_2d5c_11eb_bb24_8c1645ce8a57row6_col0 {\n",
       "            background-color:  #6fa7ce;\n",
       "            color:  #000000;\n",
       "        }    #T_8364c1de_2d5c_11eb_bb24_8c1645ce8a57row6_col1 {\n",
       "            background-color:  #8bb2d4;\n",
       "            color:  #000000;\n",
       "        }    #T_8364c1de_2d5c_11eb_bb24_8c1645ce8a57row6_col2 {\n",
       "            background-color:  #f9f2f8;\n",
       "            color:  #000000;\n",
       "        }    #T_8364c1de_2d5c_11eb_bb24_8c1645ce8a57row6_col3 {\n",
       "            background-color:  #034871;\n",
       "            color:  #f1f1f1;\n",
       "        }    #T_8364c1de_2d5c_11eb_bb24_8c1645ce8a57row6_col4 {\n",
       "            background-color:  #023c5f;\n",
       "            color:  #f1f1f1;\n",
       "        }    #T_8364c1de_2d5c_11eb_bb24_8c1645ce8a57row6_col5 {\n",
       "            background-color:  #034b76;\n",
       "            color:  #f1f1f1;\n",
       "        }    #T_8364c1de_2d5c_11eb_bb24_8c1645ce8a57row6_col6 {\n",
       "            background-color:  #023858;\n",
       "            color:  #f1f1f1;\n",
       "        }    #T_8364c1de_2d5c_11eb_bb24_8c1645ce8a57row6_col7 {\n",
       "            background-color:  #ede8f3;\n",
       "            color:  #000000;\n",
       "        }    #T_8364c1de_2d5c_11eb_bb24_8c1645ce8a57row6_col8 {\n",
       "            background-color:  #e0dded;\n",
       "            color:  #000000;\n",
       "        }    #T_8364c1de_2d5c_11eb_bb24_8c1645ce8a57row7_col0 {\n",
       "            background-color:  #80aed2;\n",
       "            color:  #000000;\n",
       "        }    #T_8364c1de_2d5c_11eb_bb24_8c1645ce8a57row7_col1 {\n",
       "            background-color:  #8cb3d5;\n",
       "            color:  #000000;\n",
       "        }    #T_8364c1de_2d5c_11eb_bb24_8c1645ce8a57row7_col2 {\n",
       "            background-color:  #e0deed;\n",
       "            color:  #000000;\n",
       "        }    #T_8364c1de_2d5c_11eb_bb24_8c1645ce8a57row7_col3 {\n",
       "            background-color:  #97b7d7;\n",
       "            color:  #000000;\n",
       "        }    #T_8364c1de_2d5c_11eb_bb24_8c1645ce8a57row7_col4 {\n",
       "            background-color:  #d3d4e7;\n",
       "            color:  #000000;\n",
       "        }    #T_8364c1de_2d5c_11eb_bb24_8c1645ce8a57row7_col5 {\n",
       "            background-color:  #d4d4e8;\n",
       "            color:  #000000;\n",
       "        }    #T_8364c1de_2d5c_11eb_bb24_8c1645ce8a57row7_col6 {\n",
       "            background-color:  #d2d2e7;\n",
       "            color:  #000000;\n",
       "        }    #T_8364c1de_2d5c_11eb_bb24_8c1645ce8a57row7_col7 {\n",
       "            background-color:  #023858;\n",
       "            color:  #f1f1f1;\n",
       "        }    #T_8364c1de_2d5c_11eb_bb24_8c1645ce8a57row7_col8 {\n",
       "            background-color:  #0d75b3;\n",
       "            color:  #f1f1f1;\n",
       "        }    #T_8364c1de_2d5c_11eb_bb24_8c1645ce8a57row8_col0 {\n",
       "            background-color:  #86b0d3;\n",
       "            color:  #000000;\n",
       "        }    #T_8364c1de_2d5c_11eb_bb24_8c1645ce8a57row8_col1 {\n",
       "            background-color:  #9ab8d8;\n",
       "            color:  #000000;\n",
       "        }    #T_8364c1de_2d5c_11eb_bb24_8c1645ce8a57row8_col2 {\n",
       "            background-color:  #b1c2de;\n",
       "            color:  #000000;\n",
       "        }    #T_8364c1de_2d5c_11eb_bb24_8c1645ce8a57row8_col3 {\n",
       "            background-color:  #a9bfdc;\n",
       "            color:  #000000;\n",
       "        }    #T_8364c1de_2d5c_11eb_bb24_8c1645ce8a57row8_col4 {\n",
       "            background-color:  #c6cce3;\n",
       "            color:  #000000;\n",
       "        }    #T_8364c1de_2d5c_11eb_bb24_8c1645ce8a57row8_col5 {\n",
       "            background-color:  #d9d8ea;\n",
       "            color:  #000000;\n",
       "        }    #T_8364c1de_2d5c_11eb_bb24_8c1645ce8a57row8_col6 {\n",
       "            background-color:  #c5cce3;\n",
       "            color:  #000000;\n",
       "        }    #T_8364c1de_2d5c_11eb_bb24_8c1645ce8a57row8_col7 {\n",
       "            background-color:  #1077b4;\n",
       "            color:  #f1f1f1;\n",
       "        }    #T_8364c1de_2d5c_11eb_bb24_8c1645ce8a57row8_col8 {\n",
       "            background-color:  #023858;\n",
       "            color:  #f1f1f1;\n",
       "        }</style><table id=\"T_8364c1de_2d5c_11eb_bb24_8c1645ce8a57\" ><thead>    <tr>        <th class=\"blank level0\" ></th>        <th class=\"col_heading level0 col0\" >longitude</th>        <th class=\"col_heading level0 col1\" >latitude</th>        <th class=\"col_heading level0 col2\" >housing_median_age</th>        <th class=\"col_heading level0 col3\" >total_rooms</th>        <th class=\"col_heading level0 col4\" >total_bedrooms</th>        <th class=\"col_heading level0 col5\" >population</th>        <th class=\"col_heading level0 col6\" >households</th>        <th class=\"col_heading level0 col7\" >median_income</th>        <th class=\"col_heading level0 col8\" >median_house_value</th>    </tr></thead><tbody>\n",
       "                <tr>\n",
       "                        <th id=\"T_8364c1de_2d5c_11eb_bb24_8c1645ce8a57level0_row0\" class=\"row_heading level0 row0\" >longitude</th>\n",
       "                        <td id=\"T_8364c1de_2d5c_11eb_bb24_8c1645ce8a57row0_col0\" class=\"data row0 col0\" >1</td>\n",
       "                        <td id=\"T_8364c1de_2d5c_11eb_bb24_8c1645ce8a57row0_col1\" class=\"data row0 col1\" >-0.924664</td>\n",
       "                        <td id=\"T_8364c1de_2d5c_11eb_bb24_8c1645ce8a57row0_col2\" class=\"data row0 col2\" >-0.108197</td>\n",
       "                        <td id=\"T_8364c1de_2d5c_11eb_bb24_8c1645ce8a57row0_col3\" class=\"data row0 col3\" >0.044568</td>\n",
       "                        <td id=\"T_8364c1de_2d5c_11eb_bb24_8c1645ce8a57row0_col4\" class=\"data row0 col4\" >0.0691197</td>\n",
       "                        <td id=\"T_8364c1de_2d5c_11eb_bb24_8c1645ce8a57row0_col5\" class=\"data row0 col5\" >0.0997732</td>\n",
       "                        <td id=\"T_8364c1de_2d5c_11eb_bb24_8c1645ce8a57row0_col6\" class=\"data row0 col6\" >0.0553101</td>\n",
       "                        <td id=\"T_8364c1de_2d5c_11eb_bb24_8c1645ce8a57row0_col7\" class=\"data row0 col7\" >-0.0151759</td>\n",
       "                        <td id=\"T_8364c1de_2d5c_11eb_bb24_8c1645ce8a57row0_col8\" class=\"data row0 col8\" >-0.0459666</td>\n",
       "            </tr>\n",
       "            <tr>\n",
       "                        <th id=\"T_8364c1de_2d5c_11eb_bb24_8c1645ce8a57level0_row1\" class=\"row_heading level0 row1\" >latitude</th>\n",
       "                        <td id=\"T_8364c1de_2d5c_11eb_bb24_8c1645ce8a57row1_col0\" class=\"data row1 col0\" >-0.924664</td>\n",
       "                        <td id=\"T_8364c1de_2d5c_11eb_bb24_8c1645ce8a57row1_col1\" class=\"data row1 col1\" >1</td>\n",
       "                        <td id=\"T_8364c1de_2d5c_11eb_bb24_8c1645ce8a57row1_col2\" class=\"data row1 col2\" >0.0111727</td>\n",
       "                        <td id=\"T_8364c1de_2d5c_11eb_bb24_8c1645ce8a57row1_col3\" class=\"data row1 col3\" >-0.0360996</td>\n",
       "                        <td id=\"T_8364c1de_2d5c_11eb_bb24_8c1645ce8a57row1_col4\" class=\"data row1 col4\" >-0.0664839</td>\n",
       "                        <td id=\"T_8364c1de_2d5c_11eb_bb24_8c1645ce8a57row1_col5\" class=\"data row1 col5\" >-0.108785</td>\n",
       "                        <td id=\"T_8364c1de_2d5c_11eb_bb24_8c1645ce8a57row1_col6\" class=\"data row1 col6\" >-0.0710354</td>\n",
       "                        <td id=\"T_8364c1de_2d5c_11eb_bb24_8c1645ce8a57row1_col7\" class=\"data row1 col7\" >-0.0798091</td>\n",
       "                        <td id=\"T_8364c1de_2d5c_11eb_bb24_8c1645ce8a57row1_col8\" class=\"data row1 col8\" >-0.14416</td>\n",
       "            </tr>\n",
       "            <tr>\n",
       "                        <th id=\"T_8364c1de_2d5c_11eb_bb24_8c1645ce8a57level0_row2\" class=\"row_heading level0 row2\" >housing_median_age</th>\n",
       "                        <td id=\"T_8364c1de_2d5c_11eb_bb24_8c1645ce8a57row2_col0\" class=\"data row2 col0\" >-0.108197</td>\n",
       "                        <td id=\"T_8364c1de_2d5c_11eb_bb24_8c1645ce8a57row2_col1\" class=\"data row2 col1\" >0.0111727</td>\n",
       "                        <td id=\"T_8364c1de_2d5c_11eb_bb24_8c1645ce8a57row2_col2\" class=\"data row2 col2\" >1</td>\n",
       "                        <td id=\"T_8364c1de_2d5c_11eb_bb24_8c1645ce8a57row2_col3\" class=\"data row2 col3\" >-0.361262</td>\n",
       "                        <td id=\"T_8364c1de_2d5c_11eb_bb24_8c1645ce8a57row2_col4\" class=\"data row2 col4\" >-0.319026</td>\n",
       "                        <td id=\"T_8364c1de_2d5c_11eb_bb24_8c1645ce8a57row2_col5\" class=\"data row2 col5\" >-0.296244</td>\n",
       "                        <td id=\"T_8364c1de_2d5c_11eb_bb24_8c1645ce8a57row2_col6\" class=\"data row2 col6\" >-0.302916</td>\n",
       "                        <td id=\"T_8364c1de_2d5c_11eb_bb24_8c1645ce8a57row2_col7\" class=\"data row2 col7\" >-0.119034</td>\n",
       "                        <td id=\"T_8364c1de_2d5c_11eb_bb24_8c1645ce8a57row2_col8\" class=\"data row2 col8\" >0.105623</td>\n",
       "            </tr>\n",
       "            <tr>\n",
       "                        <th id=\"T_8364c1de_2d5c_11eb_bb24_8c1645ce8a57level0_row3\" class=\"row_heading level0 row3\" >total_rooms</th>\n",
       "                        <td id=\"T_8364c1de_2d5c_11eb_bb24_8c1645ce8a57row3_col0\" class=\"data row3 col0\" >0.044568</td>\n",
       "                        <td id=\"T_8364c1de_2d5c_11eb_bb24_8c1645ce8a57row3_col1\" class=\"data row3 col1\" >-0.0360996</td>\n",
       "                        <td id=\"T_8364c1de_2d5c_11eb_bb24_8c1645ce8a57row3_col2\" class=\"data row3 col2\" >-0.361262</td>\n",
       "                        <td id=\"T_8364c1de_2d5c_11eb_bb24_8c1645ce8a57row3_col3\" class=\"data row3 col3\" >1</td>\n",
       "                        <td id=\"T_8364c1de_2d5c_11eb_bb24_8c1645ce8a57row3_col4\" class=\"data row3 col4\" >0.927058</td>\n",
       "                        <td id=\"T_8364c1de_2d5c_11eb_bb24_8c1645ce8a57row3_col5\" class=\"data row3 col5\" >0.857126</td>\n",
       "                        <td id=\"T_8364c1de_2d5c_11eb_bb24_8c1645ce8a57row3_col6\" class=\"data row3 col6\" >0.918484</td>\n",
       "                        <td id=\"T_8364c1de_2d5c_11eb_bb24_8c1645ce8a57row3_col7\" class=\"data row3 col7\" >0.19805</td>\n",
       "                        <td id=\"T_8364c1de_2d5c_11eb_bb24_8c1645ce8a57row3_col8\" class=\"data row3 col8\" >0.134153</td>\n",
       "            </tr>\n",
       "            <tr>\n",
       "                        <th id=\"T_8364c1de_2d5c_11eb_bb24_8c1645ce8a57level0_row4\" class=\"row_heading level0 row4\" >total_bedrooms</th>\n",
       "                        <td id=\"T_8364c1de_2d5c_11eb_bb24_8c1645ce8a57row4_col0\" class=\"data row4 col0\" >0.0691197</td>\n",
       "                        <td id=\"T_8364c1de_2d5c_11eb_bb24_8c1645ce8a57row4_col1\" class=\"data row4 col1\" >-0.0664839</td>\n",
       "                        <td id=\"T_8364c1de_2d5c_11eb_bb24_8c1645ce8a57row4_col2\" class=\"data row4 col2\" >-0.319026</td>\n",
       "                        <td id=\"T_8364c1de_2d5c_11eb_bb24_8c1645ce8a57row4_col3\" class=\"data row4 col3\" >0.927058</td>\n",
       "                        <td id=\"T_8364c1de_2d5c_11eb_bb24_8c1645ce8a57row4_col4\" class=\"data row4 col4\" >1</td>\n",
       "                        <td id=\"T_8364c1de_2d5c_11eb_bb24_8c1645ce8a57row4_col5\" class=\"data row4 col5\" >0.873535</td>\n",
       "                        <td id=\"T_8364c1de_2d5c_11eb_bb24_8c1645ce8a57row4_col6\" class=\"data row4 col6\" >0.974366</td>\n",
       "                        <td id=\"T_8364c1de_2d5c_11eb_bb24_8c1645ce8a57row4_col7\" class=\"data row4 col7\" >-0.00761687</td>\n",
       "                        <td id=\"T_8364c1de_2d5c_11eb_bb24_8c1645ce8a57row4_col8\" class=\"data row4 col8\" >0.0494569</td>\n",
       "            </tr>\n",
       "            <tr>\n",
       "                        <th id=\"T_8364c1de_2d5c_11eb_bb24_8c1645ce8a57level0_row5\" class=\"row_heading level0 row5\" >population</th>\n",
       "                        <td id=\"T_8364c1de_2d5c_11eb_bb24_8c1645ce8a57row5_col0\" class=\"data row5 col0\" >0.0997732</td>\n",
       "                        <td id=\"T_8364c1de_2d5c_11eb_bb24_8c1645ce8a57row5_col1\" class=\"data row5 col1\" >-0.108785</td>\n",
       "                        <td id=\"T_8364c1de_2d5c_11eb_bb24_8c1645ce8a57row5_col2\" class=\"data row5 col2\" >-0.296244</td>\n",
       "                        <td id=\"T_8364c1de_2d5c_11eb_bb24_8c1645ce8a57row5_col3\" class=\"data row5 col3\" >0.857126</td>\n",
       "                        <td id=\"T_8364c1de_2d5c_11eb_bb24_8c1645ce8a57row5_col4\" class=\"data row5 col4\" >0.873535</td>\n",
       "                        <td id=\"T_8364c1de_2d5c_11eb_bb24_8c1645ce8a57row5_col5\" class=\"data row5 col5\" >1</td>\n",
       "                        <td id=\"T_8364c1de_2d5c_11eb_bb24_8c1645ce8a57row5_col6\" class=\"data row5 col6\" >0.907222</td>\n",
       "                        <td id=\"T_8364c1de_2d5c_11eb_bb24_8c1645ce8a57row5_col7\" class=\"data row5 col7\" >0.00483435</td>\n",
       "                        <td id=\"T_8364c1de_2d5c_11eb_bb24_8c1645ce8a57row5_col8\" class=\"data row5 col8\" >-0.0246497</td>\n",
       "            </tr>\n",
       "            <tr>\n",
       "                        <th id=\"T_8364c1de_2d5c_11eb_bb24_8c1645ce8a57level0_row6\" class=\"row_heading level0 row6\" >households</th>\n",
       "                        <td id=\"T_8364c1de_2d5c_11eb_bb24_8c1645ce8a57row6_col0\" class=\"data row6 col0\" >0.0553101</td>\n",
       "                        <td id=\"T_8364c1de_2d5c_11eb_bb24_8c1645ce8a57row6_col1\" class=\"data row6 col1\" >-0.0710354</td>\n",
       "                        <td id=\"T_8364c1de_2d5c_11eb_bb24_8c1645ce8a57row6_col2\" class=\"data row6 col2\" >-0.302916</td>\n",
       "                        <td id=\"T_8364c1de_2d5c_11eb_bb24_8c1645ce8a57row6_col3\" class=\"data row6 col3\" >0.918484</td>\n",
       "                        <td id=\"T_8364c1de_2d5c_11eb_bb24_8c1645ce8a57row6_col4\" class=\"data row6 col4\" >0.974366</td>\n",
       "                        <td id=\"T_8364c1de_2d5c_11eb_bb24_8c1645ce8a57row6_col5\" class=\"data row6 col5\" >0.907222</td>\n",
       "                        <td id=\"T_8364c1de_2d5c_11eb_bb24_8c1645ce8a57row6_col6\" class=\"data row6 col6\" >1</td>\n",
       "                        <td id=\"T_8364c1de_2d5c_11eb_bb24_8c1645ce8a57row6_col7\" class=\"data row6 col7\" >0.0130331</td>\n",
       "                        <td id=\"T_8364c1de_2d5c_11eb_bb24_8c1645ce8a57row6_col8\" class=\"data row6 col8\" >0.0658427</td>\n",
       "            </tr>\n",
       "            <tr>\n",
       "                        <th id=\"T_8364c1de_2d5c_11eb_bb24_8c1645ce8a57level0_row7\" class=\"row_heading level0 row7\" >median_income</th>\n",
       "                        <td id=\"T_8364c1de_2d5c_11eb_bb24_8c1645ce8a57row7_col0\" class=\"data row7 col0\" >-0.0151759</td>\n",
       "                        <td id=\"T_8364c1de_2d5c_11eb_bb24_8c1645ce8a57row7_col1\" class=\"data row7 col1\" >-0.0798091</td>\n",
       "                        <td id=\"T_8364c1de_2d5c_11eb_bb24_8c1645ce8a57row7_col2\" class=\"data row7 col2\" >-0.119034</td>\n",
       "                        <td id=\"T_8364c1de_2d5c_11eb_bb24_8c1645ce8a57row7_col3\" class=\"data row7 col3\" >0.19805</td>\n",
       "                        <td id=\"T_8364c1de_2d5c_11eb_bb24_8c1645ce8a57row7_col4\" class=\"data row7 col4\" >-0.00761687</td>\n",
       "                        <td id=\"T_8364c1de_2d5c_11eb_bb24_8c1645ce8a57row7_col5\" class=\"data row7 col5\" >0.00483435</td>\n",
       "                        <td id=\"T_8364c1de_2d5c_11eb_bb24_8c1645ce8a57row7_col6\" class=\"data row7 col6\" >0.0130331</td>\n",
       "                        <td id=\"T_8364c1de_2d5c_11eb_bb24_8c1645ce8a57row7_col7\" class=\"data row7 col7\" >1</td>\n",
       "                        <td id=\"T_8364c1de_2d5c_11eb_bb24_8c1645ce8a57row7_col8\" class=\"data row7 col8\" >0.688075</td>\n",
       "            </tr>\n",
       "            <tr>\n",
       "                        <th id=\"T_8364c1de_2d5c_11eb_bb24_8c1645ce8a57level0_row8\" class=\"row_heading level0 row8\" >median_house_value</th>\n",
       "                        <td id=\"T_8364c1de_2d5c_11eb_bb24_8c1645ce8a57row8_col0\" class=\"data row8 col0\" >-0.0459666</td>\n",
       "                        <td id=\"T_8364c1de_2d5c_11eb_bb24_8c1645ce8a57row8_col1\" class=\"data row8 col1\" >-0.14416</td>\n",
       "                        <td id=\"T_8364c1de_2d5c_11eb_bb24_8c1645ce8a57row8_col2\" class=\"data row8 col2\" >0.105623</td>\n",
       "                        <td id=\"T_8364c1de_2d5c_11eb_bb24_8c1645ce8a57row8_col3\" class=\"data row8 col3\" >0.134153</td>\n",
       "                        <td id=\"T_8364c1de_2d5c_11eb_bb24_8c1645ce8a57row8_col4\" class=\"data row8 col4\" >0.0494569</td>\n",
       "                        <td id=\"T_8364c1de_2d5c_11eb_bb24_8c1645ce8a57row8_col5\" class=\"data row8 col5\" >-0.0246497</td>\n",
       "                        <td id=\"T_8364c1de_2d5c_11eb_bb24_8c1645ce8a57row8_col6\" class=\"data row8 col6\" >0.0658427</td>\n",
       "                        <td id=\"T_8364c1de_2d5c_11eb_bb24_8c1645ce8a57row8_col7\" class=\"data row8 col7\" >0.688075</td>\n",
       "                        <td id=\"T_8364c1de_2d5c_11eb_bb24_8c1645ce8a57row8_col8\" class=\"data row8 col8\" >1</td>\n",
       "            </tr>\n",
       "    </tbody></table>"
      ],
      "text/plain": [
       "<pandas.io.formats.style.Styler at 0x1efe8bb29b0>"
      ]
     },
     "execution_count": 325,
     "metadata": {},
     "output_type": "execute_result"
    }
   ],
   "source": [
    "corr = data.corr()\n",
    "corr.style.background_gradient()"
   ]
  },
  {
   "cell_type": "code",
   "execution_count": 326,
   "metadata": {},
   "outputs": [
    {
     "data": {
      "text/plain": [
       "<matplotlib.axes._subplots.AxesSubplot at 0x1efe5004278>"
      ]
     },
     "execution_count": 326,
     "metadata": {},
     "output_type": "execute_result"
    },
    {
     "data": {
      "image/png": "[encoded data removed]",
      "text/plain": [
       "<Figure size 1080x360 with 1 Axes>"
      ]
     },
     "metadata": {
      "needs_background": "light"
     },
     "output_type": "display_data"
    }
   ],
   "source": [
    "\n",
    "plt.figure(figsize=(15,5))\n",
    "sns.boxplot(x=data['median_house_value'])"
   ]
  },
  {
   "cell_type": "code",
   "execution_count": 327,
   "metadata": {},
   "outputs": [],
   "source": [
    "data = data.loc[data['median_house_value']<500001,:]\n"
   ]
  },
  {
   "cell_type": "code",
   "execution_count": 328,
   "metadata": {},
   "outputs": [
    {
     "data": {
      "text/plain": [
       "longitude             0\n",
       "latitude              0\n",
       "housing_median_age    0\n",
       "total_rooms           0\n",
       "total_bedrooms        0\n",
       "population            0\n",
       "households            0\n",
       "median_income         0\n",
       "median_house_value    0\n",
       "ocean_proximity       0\n",
       "dtype: int64"
      ]
     },
     "execution_count": 328,
     "metadata": {},
     "output_type": "execute_result"
    }
   ],
   "source": [
    "data.isna().sum()"
   ]
  },
  {
   "cell_type": "code",
   "execution_count": 329,
   "metadata": {},
   "outputs": [
    {
     "data": {
      "text/plain": [
       "<1H OCEAN     8604\n",
       "INLAND        6524\n",
       "NEAR OCEAN    2446\n",
       "NEAR BAY      2096\n",
       "ISLAND           5\n",
       "Name: ocean_proximity, dtype: int64"
      ]
     },
     "execution_count": 329,
     "metadata": {},
     "output_type": "execute_result"
    }
   ],
   "source": [
    "data['ocean_proximity'].value_counts()\n"
   ]
  },
  {
   "cell_type": "code",
   "execution_count": 330,
   "metadata": {},
   "outputs": [
    {
     "data": {
      "text/html": [
       "<div>\n",
       "<style scoped>\n",
       "    .dataframe tbody tr th:only-of-type {\n",
       "        vertical-align: middle;\n",
       "    }\n",
       "\n",
       "    .dataframe tbody tr th {\n",
       "        vertical-align: top;\n",
       "    }\n",
       "\n",
       "    .dataframe thead th {\n",
       "        text-align: right;\n",
       "    }\n",
       "</style>\n",
       "<table border=\"1\" class=\"dataframe\">\n",
       "  <thead>\n",
       "    <tr style=\"text-align: right;\">\n",
       "      <th></th>\n",
       "      <th>longitude</th>\n",
       "      <th>latitude</th>\n",
       "      <th>housing_median_age</th>\n",
       "      <th>total_rooms</th>\n",
       "      <th>total_bedrooms</th>\n",
       "      <th>population</th>\n",
       "      <th>households</th>\n",
       "      <th>median_income</th>\n",
       "      <th>median_house_value</th>\n",
       "      <th>ocean_proximity</th>\n",
       "    </tr>\n",
       "  </thead>\n",
       "  <tbody>\n",
       "    <tr>\n",
       "      <th>0</th>\n",
       "      <td>-122.23</td>\n",
       "      <td>37.88</td>\n",
       "      <td>41.0</td>\n",
       "      <td>880.0</td>\n",
       "      <td>129.0</td>\n",
       "      <td>322.0</td>\n",
       "      <td>126.0</td>\n",
       "      <td>8.3252</td>\n",
       "      <td>452600.0</td>\n",
       "      <td>3</td>\n",
       "    </tr>\n",
       "    <tr>\n",
       "      <th>1</th>\n",
       "      <td>-122.22</td>\n",
       "      <td>37.86</td>\n",
       "      <td>21.0</td>\n",
       "      <td>7099.0</td>\n",
       "      <td>1106.0</td>\n",
       "      <td>2401.0</td>\n",
       "      <td>1138.0</td>\n",
       "      <td>8.3014</td>\n",
       "      <td>358500.0</td>\n",
       "      <td>3</td>\n",
       "    </tr>\n",
       "    <tr>\n",
       "      <th>2</th>\n",
       "      <td>-122.24</td>\n",
       "      <td>37.85</td>\n",
       "      <td>52.0</td>\n",
       "      <td>1467.0</td>\n",
       "      <td>190.0</td>\n",
       "      <td>496.0</td>\n",
       "      <td>177.0</td>\n",
       "      <td>7.2574</td>\n",
       "      <td>352100.0</td>\n",
       "      <td>3</td>\n",
       "    </tr>\n",
       "  </tbody>\n",
       "</table>\n",
       "</div>"
      ],
      "text/plain": [
       "   longitude  latitude  housing_median_age  total_rooms  total_bedrooms  \\\n",
       "0    -122.23     37.88                41.0        880.0           129.0   \n",
       "1    -122.22     37.86                21.0       7099.0          1106.0   \n",
       "2    -122.24     37.85                52.0       1467.0           190.0   \n",
       "\n",
       "   population  households  median_income  median_house_value  ocean_proximity  \n",
       "0       322.0       126.0         8.3252            452600.0                3  \n",
       "1      2401.0      1138.0         8.3014            358500.0                3  \n",
       "2       496.0       177.0         7.2574            352100.0                3  "
      ]
     },
     "execution_count": 330,
     "metadata": {},
     "output_type": "execute_result"
    }
   ],
   "source": [
    "def to_numbers(val):\n",
    "    if val == '<1H OCEAN':\n",
    "        return 0\n",
    "    elif val == 'INLAND':\n",
    "        return 1\n",
    "    elif val == 'NEAR OCEAN':\n",
    "        return 2\n",
    "    elif val == 'NEAR BAY':\n",
    "        return 3\n",
    "    elif val == 'ISLAND':\n",
    "        return 4\n",
    "data['ocean_proximity'] = data['ocean_proximity'].apply(to_numbers)\n",
    "data.head(3)"
   ]
  },
  {
   "cell_type": "code",
   "execution_count": 331,
   "metadata": {},
   "outputs": [
    {
     "name": "stdout",
     "output_type": "stream",
     "text": [
      "(19675, 9) (19675, 1)\n"
     ]
    }
   ],
   "source": [
    "X=pd.DataFrame(columns=['longitude','latitude','housing_median_age','total_rooms','total_bedrooms','population','households',\n",
    "                        'median_income','ocean_proximity'],data=data)\n",
    "y=pd.DataFrame(columns=['median_house_value'],data=data)\n",
    "print(X.shape,y.shape)"
   ]
  },
  {
   "cell_type": "code",
   "execution_count": 332,
   "metadata": {},
   "outputs": [
    {
     "data": {
      "text/html": [
       "<div>\n",
       "<style scoped>\n",
       "    .dataframe tbody tr th:only-of-type {\n",
       "        vertical-align: middle;\n",
       "    }\n",
       "\n",
       "    .dataframe tbody tr th {\n",
       "        vertical-align: top;\n",
       "    }\n",
       "\n",
       "    .dataframe thead th {\n",
       "        text-align: right;\n",
       "    }\n",
       "</style>\n",
       "<table border=\"1\" class=\"dataframe\">\n",
       "  <thead>\n",
       "    <tr style=\"text-align: right;\">\n",
       "      <th></th>\n",
       "      <th>longitude</th>\n",
       "      <th>latitude</th>\n",
       "      <th>housing_median_age</th>\n",
       "      <th>total_rooms</th>\n",
       "      <th>total_bedrooms</th>\n",
       "      <th>population</th>\n",
       "      <th>households</th>\n",
       "      <th>median_income</th>\n",
       "      <th>ocean_proximity</th>\n",
       "    </tr>\n",
       "  </thead>\n",
       "  <tbody>\n",
       "    <tr>\n",
       "      <th>0</th>\n",
       "      <td>-122.23</td>\n",
       "      <td>37.88</td>\n",
       "      <td>41.0</td>\n",
       "      <td>880.0</td>\n",
       "      <td>129.0</td>\n",
       "      <td>322.0</td>\n",
       "      <td>126.0</td>\n",
       "      <td>8.3252</td>\n",
       "      <td>3</td>\n",
       "    </tr>\n",
       "    <tr>\n",
       "      <th>1</th>\n",
       "      <td>-122.22</td>\n",
       "      <td>37.86</td>\n",
       "      <td>21.0</td>\n",
       "      <td>7099.0</td>\n",
       "      <td>1106.0</td>\n",
       "      <td>2401.0</td>\n",
       "      <td>1138.0</td>\n",
       "      <td>8.3014</td>\n",
       "      <td>3</td>\n",
       "    </tr>\n",
       "    <tr>\n",
       "      <th>2</th>\n",
       "      <td>-122.24</td>\n",
       "      <td>37.85</td>\n",
       "      <td>52.0</td>\n",
       "      <td>1467.0</td>\n",
       "      <td>190.0</td>\n",
       "      <td>496.0</td>\n",
       "      <td>177.0</td>\n",
       "      <td>7.2574</td>\n",
       "      <td>3</td>\n",
       "    </tr>\n",
       "    <tr>\n",
       "      <th>3</th>\n",
       "      <td>-122.25</td>\n",
       "      <td>37.85</td>\n",
       "      <td>52.0</td>\n",
       "      <td>1274.0</td>\n",
       "      <td>235.0</td>\n",
       "      <td>558.0</td>\n",
       "      <td>219.0</td>\n",
       "      <td>5.6431</td>\n",
       "      <td>3</td>\n",
       "    </tr>\n",
       "    <tr>\n",
       "      <th>4</th>\n",
       "      <td>-122.25</td>\n",
       "      <td>37.85</td>\n",
       "      <td>52.0</td>\n",
       "      <td>1627.0</td>\n",
       "      <td>280.0</td>\n",
       "      <td>565.0</td>\n",
       "      <td>259.0</td>\n",
       "      <td>3.8462</td>\n",
       "      <td>3</td>\n",
       "    </tr>\n",
       "  </tbody>\n",
       "</table>\n",
       "</div>"
      ],
      "text/plain": [
       "   longitude  latitude  housing_median_age  total_rooms  total_bedrooms  \\\n",
       "0    -122.23     37.88                41.0        880.0           129.0   \n",
       "1    -122.22     37.86                21.0       7099.0          1106.0   \n",
       "2    -122.24     37.85                52.0       1467.0           190.0   \n",
       "3    -122.25     37.85                52.0       1274.0           235.0   \n",
       "4    -122.25     37.85                52.0       1627.0           280.0   \n",
       "\n",
       "   population  households  median_income  ocean_proximity  \n",
       "0       322.0       126.0         8.3252                3  \n",
       "1      2401.0      1138.0         8.3014                3  \n",
       "2       496.0       177.0         7.2574                3  \n",
       "3       558.0       219.0         5.6431                3  \n",
       "4       565.0       259.0         3.8462                3  "
      ]
     },
     "execution_count": 332,
     "metadata": {},
     "output_type": "execute_result"
    }
   ],
   "source": [
    "X.head()"
   ]
  },
  {
   "cell_type": "code",
   "execution_count": null,
   "metadata": {},
   "outputs": [],
   "source": []
  },
  {
   "cell_type": "code",
   "execution_count": 333,
   "metadata": {},
   "outputs": [
    {
     "data": {
      "text/plain": [
       "longitude             0\n",
       "latitude              0\n",
       "housing_median_age    0\n",
       "total_rooms           0\n",
       "total_bedrooms        0\n",
       "population            0\n",
       "households            0\n",
       "median_income         0\n",
       "ocean_proximity       0\n",
       "dtype: int64"
      ]
     },
     "execution_count": 333,
     "metadata": {},
     "output_type": "execute_result"
    }
   ],
   "source": [
    "X.isna().sum()"
   ]
  },
  {
   "cell_type": "code",
   "execution_count": 334,
   "metadata": {},
   "outputs": [
    {
     "name": "stdout",
     "output_type": "stream",
     "text": [
      "(14756, 9)    (4919, 9)\n",
      "(14756, 1)    (4919, 1)\n",
      "(11067, 9)    (3689, 9)\n",
      "(11067, 1)    (3689, 1)\n"
     ]
    }
   ],
   "source": [
    "#test train split\n",
    "from sklearn.model_selection import train_test_split\n",
    "X_train_full,X_test,y_train_full,y_test = train_test_split(X,y,random_state=0)\n",
    "X_train, X_valid, y_train, y_valid = train_test_split(X_train_full, y_train_full, random_state=0)\n",
    "print(X_train_full.shape,'  ',X_test.shape)\n",
    "print(y_train_full.shape,'  ',y_test.shape)\n",
    "print(X_train.shape,'  ',X_valid.shape)\n",
    "print(y_train.shape,'  ',y_valid.shape)"
   ]
  },
  {
   "cell_type": "code",
   "execution_count": 335,
   "metadata": {},
   "outputs": [
    {
     "data": {
      "text/plain": [
       "array([[452600.],\n",
       "       [358500.],\n",
       "       [352100.],\n",
       "       ...,\n",
       "       [ 92300.],\n",
       "       [ 84700.],\n",
       "       [ 89400.]])"
      ]
     },
     "execution_count": 335,
     "metadata": {},
     "output_type": "execute_result"
    }
   ],
   "source": [
    "y.to_numpy()"
   ]
  },
  {
   "cell_type": "code",
   "execution_count": null,
   "metadata": {},
   "outputs": [],
   "source": []
  },
  {
   "cell_type": "code",
   "execution_count": 336,
   "metadata": {},
   "outputs": [],
   "source": [
    "# Feature Scaling\n",
    "from sklearn.preprocessing import StandardScaler\n",
    "scaler = StandardScaler()\n",
    "X_train = scaler.fit_transform(X_train)\n",
    "X_valid = scaler.transform(X_valid)\n",
    "X_test = scaler.transform(X_test)\n"
   ]
  },
  {
   "cell_type": "code",
   "execution_count": 337,
   "metadata": {},
   "outputs": [
    {
     "data": {
      "text/plain": [
       "array([[ 0.18091688, -0.67427494,  0.52934193, ...,  0.11851522,\n",
       "        -0.29445857,  1.11511005],\n",
       "       [ 0.71456479, -0.75817027,  0.37029576, ..., -0.08952938,\n",
       "        -1.08061438, -0.91015013],\n",
       "       [-1.45992578,  0.98964914,  1.56314203, ...,  0.2738903 ,\n",
       "         0.18608674,  2.12774014],\n",
       "       ...,\n",
       "       [ 0.71456479, -0.71622261,  1.64266512, ..., -0.22120318,\n",
       "         0.23690507, -0.91015013],\n",
       "       [-1.44496369,  0.98032743,  1.40409586, ...,  1.60906262,\n",
       "         0.89480509,  2.12774014],\n",
       "       [ 0.60484279, -0.7069009 ,  1.00648044, ...,  0.36869544,\n",
       "         0.35529014, -0.91015013]])"
      ]
     },
     "execution_count": 337,
     "metadata": {},
     "output_type": "execute_result"
    }
   ],
   "source": [
    "X_train"
   ]
  },
  {
   "cell_type": "code",
   "execution_count": 338,
   "metadata": {},
   "outputs": [
    {
     "data": {
      "text/plain": [
       "(9,)"
      ]
     },
     "execution_count": 338,
     "metadata": {},
     "output_type": "execute_result"
    }
   ],
   "source": [
    "X_train.shape[1:]"
   ]
  },
  {
   "cell_type": "code",
   "execution_count": 339,
   "metadata": {},
   "outputs": [],
   "source": [
    "#model building\n",
    "import tensorflow as tf\n",
    "\n",
    "model = tf.keras.models.Sequential([\n",
    "    tf.keras.layers.Dense(512,kernel_initializer='normal', activation=\"relu\", input_shape=X_train.shape[1:]),\n",
    "    tf.keras.layers.Dense(256,kernel_initializer='normal', activation=\"relu\"),\n",
    "    tf.keras.layers.Dense(128,kernel_initializer='normal', activation=\"relu\"),\n",
    "    tf.keras.layers.Dense(64,kernel_initializer='normal', activation=\"relu\"),\n",
    "    tf.keras.layers.Dense(32,kernel_initializer='normal', activation=\"relu\"),\n",
    "    tf.keras.layers.Dense(8,kernel_initializer='normal', activation=\"relu\"),\n",
    "    tf.keras.layers.Dense(1)\n",
    "])\n"
   ]
  },
  {
   "cell_type": "code",
   "execution_count": null,
   "metadata": {},
   "outputs": [],
   "source": []
  },
  {
   "cell_type": "code",
   "execution_count": 340,
   "metadata": {},
   "outputs": [
    {
     "name": "stdout",
     "output_type": "stream",
     "text": [
      "Model: \"sequential_19\"\n",
      "_________________________________________________________________\n",
      "Layer (type)                 Output Shape              Param #   \n",
      "=================================================================\n",
      "dense_87 (Dense)             (None, 512)               5120      \n",
      "_________________________________________________________________\n",
      "dense_88 (Dense)             (None, 256)               131328    \n",
      "_________________________________________________________________\n",
      "dense_89 (Dense)             (None, 128)               32896     \n",
      "_________________________________________________________________\n",
      "dense_90 (Dense)             (None, 64)                8256      \n",
      "_________________________________________________________________\n",
      "dense_91 (Dense)             (None, 32)                2080      \n",
      "_________________________________________________________________\n",
      "dense_92 (Dense)             (None, 8)                 264       \n",
      "_________________________________________________________________\n",
      "dense_93 (Dense)             (None, 1)                 9         \n",
      "=================================================================\n",
      "Total params: 179,953\n",
      "Trainable params: 179,953\n",
      "Non-trainable params: 0\n",
      "_________________________________________________________________\n"
     ]
    }
   ],
   "source": [
    "# compile the model\n",
    "\n",
    "model.compile(loss='mse', optimizer='adam')\n",
    "model.summary()"
   ]
  },
  {
   "cell_type": "code",
   "execution_count": 341,
   "metadata": {},
   "outputs": [
    {
     "name": "stdout",
     "output_type": "stream",
     "text": [
      "Epoch 1/10\n",
      "346/346 [==============================] - 1s 2ms/step - loss: 15800684544.0000 - val_loss: 4717354496.0000\n",
      "Epoch 2/10\n",
      "346/346 [==============================] - 1s 2ms/step - loss: 3923419136.0000 - val_loss: 3748615680.0000\n",
      "Epoch 3/10\n",
      "346/346 [==============================] - 1s 2ms/step - loss: 3505628928.0000 - val_loss: 3590523136.0000\n",
      "Epoch 4/10\n",
      "346/346 [==============================] - 1s 2ms/step - loss: 3395087360.0000 - val_loss: 3578542848.0000\n",
      "Epoch 5/10\n",
      "346/346 [==============================] - 1s 2ms/step - loss: 3346192640.0000 - val_loss: 3582380544.0000\n",
      "Epoch 6/10\n",
      "346/346 [==============================] - 1s 2ms/step - loss: 3316294144.0000 - val_loss: 3484627200.0000\n",
      "Epoch 7/10\n",
      "346/346 [==============================] - 1s 2ms/step - loss: 3303735808.0000 - val_loss: 3450230784.0000\n",
      "Epoch 8/10\n",
      "346/346 [==============================] - 1s 2ms/step - loss: 3282578944.0000 - val_loss: 3418441728.0000\n",
      "Epoch 9/10\n",
      "346/346 [==============================] - 1s 2ms/step - loss: 3260982016.0000 - val_loss: 3449545984.0000\n",
      "Epoch 10/10\n",
      "346/346 [==============================] - 1s 2ms/step - loss: 3248672000.0000 - val_loss: 3375502336.0000\n"
     ]
    }
   ],
   "source": [
    "history = model.fit(X_train, y_train.to_numpy(), epochs=10, validation_data=(X_valid, y_valid))\n"
   ]
  },
  {
   "cell_type": "code",
   "execution_count": 342,
   "metadata": {},
   "outputs": [
    {
     "data": {
      "image/png": "[encoded data removed]",
      "text/plain": [
       "<Figure size 576x360 with 1 Axes>"
      ]
     },
     "metadata": {
      "needs_background": "light"
     },
     "output_type": "display_data"
    }
   ],
   "source": [
    "\n",
    "pd.DataFrame(history.history).plot(figsize=(8, 5))\n",
    "plt.grid(True)"
   ]
  },
  {
   "cell_type": "code",
   "execution_count": 343,
   "metadata": {},
   "outputs": [],
   "source": [
    "y_pred = model.predict(X_test)\n"
   ]
  },
  {
   "cell_type": "code",
   "execution_count": 344,
   "metadata": {},
   "outputs": [
    {
     "name": "stdout",
     "output_type": "stream",
     "text": [
      "154/154 [==============================] - 0s 848us/step - loss: 3414044416.0000\n"
     ]
    },
    {
     "data": {
      "text/plain": [
       "3414044416.0"
      ]
     },
     "execution_count": 344,
     "metadata": {},
     "output_type": "execute_result"
    }
   ],
   "source": [
    "model.evaluate(X_test,y_test)"
   ]
  },
  {
   "cell_type": "code",
   "execution_count": 345,
   "metadata": {},
   "outputs": [],
   "source": [
    "from sklearn.model_selection import train_test_split\n",
    "X_train1,X_test1,Y_train1,Y_test1 = train_test_split(X,y,test_size = 0.2, random_state=0)"
   ]
  },
  {
   "cell_type": "code",
   "execution_count": null,
   "metadata": {},
   "outputs": [],
   "source": []
  },
  {
   "cell_type": "code",
   "execution_count": 346,
   "metadata": {},
   "outputs": [
    {
     "ename": "LinAlgError",
     "evalue": "SVD did not converge in Linear Least Squares",
     "output_type": "error",
     "traceback": [
      "\u001b[1;31m---------------------------------------------------------------------------\u001b[0m",
      "\u001b[1;31mLinAlgError\u001b[0m                               Traceback (most recent call last)",
      "\u001b[1;32m<ipython-input-346-ad1a2027c134>\u001b[0m in \u001b[0;36m<module>\u001b[1;34m\u001b[0m\n\u001b[0;32m      1\u001b[0m \u001b[1;32mfrom\u001b[0m \u001b[0msklearn\u001b[0m\u001b[1;33m.\u001b[0m\u001b[0mlinear_model\u001b[0m \u001b[1;32mimport\u001b[0m \u001b[0mLinearRegression\u001b[0m\u001b[1;33m\u001b[0m\u001b[1;33m\u001b[0m\u001b[0m\n\u001b[0;32m      2\u001b[0m \u001b[0mregressor\u001b[0m\u001b[1;33m=\u001b[0m \u001b[0mLinearRegression\u001b[0m\u001b[1;33m(\u001b[0m\u001b[1;33m)\u001b[0m\u001b[1;33m\u001b[0m\u001b[1;33m\u001b[0m\u001b[0m\n\u001b[1;32m----> 3\u001b[1;33m \u001b[0mregressor\u001b[0m\u001b[1;33m.\u001b[0m\u001b[0mfit\u001b[0m\u001b[1;33m(\u001b[0m\u001b[0mX_train1\u001b[0m\u001b[1;33m,\u001b[0m\u001b[0mY_train1\u001b[0m\u001b[1;33m)\u001b[0m\u001b[1;33m\u001b[0m\u001b[1;33m\u001b[0m\u001b[0m\n\u001b[0m",
      "\u001b[1;32m~\\Anaconda3\\lib\\site-packages\\sklearn\\linear_model\\base.py\u001b[0m in \u001b[0;36mfit\u001b[1;34m(self, X, y, sample_weight)\u001b[0m\n\u001b[0;32m    501\u001b[0m         \u001b[1;32melse\u001b[0m\u001b[1;33m:\u001b[0m\u001b[1;33m\u001b[0m\u001b[1;33m\u001b[0m\u001b[0m\n\u001b[0;32m    502\u001b[0m             \u001b[0mself\u001b[0m\u001b[1;33m.\u001b[0m\u001b[0mcoef_\u001b[0m\u001b[1;33m,\u001b[0m \u001b[0mself\u001b[0m\u001b[1;33m.\u001b[0m\u001b[0m_residues\u001b[0m\u001b[1;33m,\u001b[0m \u001b[0mself\u001b[0m\u001b[1;33m.\u001b[0m\u001b[0mrank_\u001b[0m\u001b[1;33m,\u001b[0m \u001b[0mself\u001b[0m\u001b[1;33m.\u001b[0m\u001b[0msingular_\u001b[0m \u001b[1;33m=\u001b[0m\u001b[0;31m \u001b[0m\u001b[0;31m\\\u001b[0m\u001b[1;33m\u001b[0m\u001b[1;33m\u001b[0m\u001b[0m\n\u001b[1;32m--> 503\u001b[1;33m                 \u001b[0mlinalg\u001b[0m\u001b[1;33m.\u001b[0m\u001b[0mlstsq\u001b[0m\u001b[1;33m(\u001b[0m\u001b[0mX\u001b[0m\u001b[1;33m,\u001b[0m \u001b[0my\u001b[0m\u001b[1;33m)\u001b[0m\u001b[1;33m\u001b[0m\u001b[1;33m\u001b[0m\u001b[0m\n\u001b[0m\u001b[0;32m    504\u001b[0m             \u001b[0mself\u001b[0m\u001b[1;33m.\u001b[0m\u001b[0mcoef_\u001b[0m \u001b[1;33m=\u001b[0m \u001b[0mself\u001b[0m\u001b[1;33m.\u001b[0m\u001b[0mcoef_\u001b[0m\u001b[1;33m.\u001b[0m\u001b[0mT\u001b[0m\u001b[1;33m\u001b[0m\u001b[1;33m\u001b[0m\u001b[0m\n\u001b[0;32m    505\u001b[0m \u001b[1;33m\u001b[0m\u001b[0m\n",
      "\u001b[1;32m~\\Anaconda3\\lib\\site-packages\\scipy\\linalg\\basic.py\u001b[0m in \u001b[0;36mlstsq\u001b[1;34m(a, b, cond, overwrite_a, overwrite_b, check_finite, lapack_driver)\u001b[0m\n\u001b[0;32m   1221\u001b[0m                                                cond, False, False)\n\u001b[0;32m   1222\u001b[0m         \u001b[1;32mif\u001b[0m \u001b[0minfo\u001b[0m \u001b[1;33m>\u001b[0m \u001b[1;36m0\u001b[0m\u001b[1;33m:\u001b[0m\u001b[1;33m\u001b[0m\u001b[1;33m\u001b[0m\u001b[0m\n\u001b[1;32m-> 1223\u001b[1;33m             \u001b[1;32mraise\u001b[0m \u001b[0mLinAlgError\u001b[0m\u001b[1;33m(\u001b[0m\u001b[1;34m\"SVD did not converge in Linear Least Squares\"\u001b[0m\u001b[1;33m)\u001b[0m\u001b[1;33m\u001b[0m\u001b[1;33m\u001b[0m\u001b[0m\n\u001b[0m\u001b[0;32m   1224\u001b[0m         \u001b[1;32mif\u001b[0m \u001b[0minfo\u001b[0m \u001b[1;33m<\u001b[0m \u001b[1;36m0\u001b[0m\u001b[1;33m:\u001b[0m\u001b[1;33m\u001b[0m\u001b[1;33m\u001b[0m\u001b[0m\n\u001b[0;32m   1225\u001b[0m             raise ValueError('illegal value in %d-th argument of internal %s'\n",
      "\u001b[1;31mLinAlgError\u001b[0m: SVD did not converge in Linear Least Squares"
     ]
    }
   ],
   "source": [
    "from sklearn.linear_model import LinearRegression\n",
    "regressor= LinearRegression()\n",
    "regressor.fit(X_train1,Y_train1)"
   ]
  },
  {
   "cell_type": "code",
   "execution_count": null,
   "metadata": {},
   "outputs": [],
   "source": []
  },
  {
   "cell_type": "code",
   "execution_count": null,
   "metadata": {},
   "outputs": [],
   "source": []
  }
 ],
 "metadata": {
  "kernelspec": {
   "display_name": "Python 3",
   "language": "python",
   "name": "python3"
  },
  "language_info": {
   "codemirror_mode": {
    "name": "ipython",
    "version": 3
   },
   "file_extension": ".py",
   "mimetype": "text/x-python",
   "name": "python",
   "nbconvert_exporter": "python",
   "pygments_lexer": "ipython3",
   "version": "3.7.3"
  }
 },
 "nbformat": 4,
 "nbformat_minor": 2
}
